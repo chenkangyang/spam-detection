{
 "cells": [
  {
   "cell_type": "markdown",
   "metadata": {},
   "source": [
    "V3: \n",
    "+ Delete the stop words\n",
    "+ LSTM uses the Tokenizert.fit_on_texts(data) then Tokenizert.texts_to_sequences(data) to do the preprocessing\n",
    "+ Other models uses the TfidfVectorizer to do the the preprocessing\n",
    "    "
   ]
  },
  {
   "cell_type": "markdown",
   "metadata": {
    "_cell_guid": "33ffe59a-78f7-f5b5-4671-b5ca53026e24"
   },
   "source": [
    "Goal of this notebook to test several classifiers on the data set with different features "
   ]
  },
  {
   "cell_type": "markdown",
   "metadata": {
    "_cell_guid": "a9d79990-beea-6157-59fa-d59a44b92ba8"
   },
   "source": [
    "### Let's begin"
   ]
  },
  {
   "cell_type": "markdown",
   "metadata": {
    "_cell_guid": "79182371-b9d8-4e8f-eeb6-b38f3476a674"
   },
   "source": [
    "First of all neccesary imports"
   ]
  },
  {
   "cell_type": "code",
   "execution_count": 1,
   "metadata": {
    "_cell_guid": "e6094c6e-9777-c7be-bd57-fe431519ad20",
    "collapsed": true
   },
   "outputs": [],
   "source": [
    "import numpy as np\n",
    "import pandas as pd\n",
    "import matplotlib as mpl\n",
    "import matplotlib.pyplot as plt\n",
    "import seaborn as sns\n",
    "import string\n",
    "from sklearn.feature_extraction.text import TfidfVectorizer\n",
    "from sklearn.model_selection import train_test_split\n",
    "from nltk.corpus import stopwords\n",
    "from sklearn.preprocessing import LabelEncoder\n",
    "%matplotlib inline"
   ]
  },
  {
   "cell_type": "markdown",
   "metadata": {
    "_cell_guid": "6689da0a-5795-85f6-2f13-4eb276bde97f"
   },
   "source": [
    "Let's read the data from csv file"
   ]
  },
  {
   "cell_type": "code",
   "execution_count": 2,
   "metadata": {
    "_cell_guid": "94a28c87-ff0a-8302-05bd-404df2873761"
   },
   "outputs": [
    {
     "data": {
      "text/html": [
       "<div>\n",
       "<style scoped>\n",
       "    .dataframe tbody tr th:only-of-type {\n",
       "        vertical-align: middle;\n",
       "    }\n",
       "\n",
       "    .dataframe tbody tr th {\n",
       "        vertical-align: top;\n",
       "    }\n",
       "\n",
       "    .dataframe thead th {\n",
       "        text-align: right;\n",
       "    }\n",
       "</style>\n",
       "<table border=\"1\" class=\"dataframe\">\n",
       "  <thead>\n",
       "    <tr style=\"text-align: right;\">\n",
       "      <th></th>\n",
       "      <th>v1</th>\n",
       "      <th>v2</th>\n",
       "      <th>Unnamed: 2</th>\n",
       "      <th>Unnamed: 3</th>\n",
       "      <th>Unnamed: 4</th>\n",
       "    </tr>\n",
       "  </thead>\n",
       "  <tbody>\n",
       "    <tr>\n",
       "      <th>0</th>\n",
       "      <td>ham</td>\n",
       "      <td>Go until jurong point, crazy.. Available only ...</td>\n",
       "      <td>NaN</td>\n",
       "      <td>NaN</td>\n",
       "      <td>NaN</td>\n",
       "    </tr>\n",
       "    <tr>\n",
       "      <th>1</th>\n",
       "      <td>ham</td>\n",
       "      <td>Ok lar... Joking wif u oni...</td>\n",
       "      <td>NaN</td>\n",
       "      <td>NaN</td>\n",
       "      <td>NaN</td>\n",
       "    </tr>\n",
       "    <tr>\n",
       "      <th>2</th>\n",
       "      <td>spam</td>\n",
       "      <td>Free entry in 2 a wkly comp to win FA Cup fina...</td>\n",
       "      <td>NaN</td>\n",
       "      <td>NaN</td>\n",
       "      <td>NaN</td>\n",
       "    </tr>\n",
       "    <tr>\n",
       "      <th>3</th>\n",
       "      <td>ham</td>\n",
       "      <td>U dun say so early hor... U c already then say...</td>\n",
       "      <td>NaN</td>\n",
       "      <td>NaN</td>\n",
       "      <td>NaN</td>\n",
       "    </tr>\n",
       "    <tr>\n",
       "      <th>4</th>\n",
       "      <td>ham</td>\n",
       "      <td>Nah I don't think he goes to usf, he lives aro...</td>\n",
       "      <td>NaN</td>\n",
       "      <td>NaN</td>\n",
       "      <td>NaN</td>\n",
       "    </tr>\n",
       "  </tbody>\n",
       "</table>\n",
       "</div>"
      ],
      "text/plain": [
       "     v1                                                 v2 Unnamed: 2  \\\n",
       "0   ham  Go until jurong point, crazy.. Available only ...        NaN   \n",
       "1   ham                      Ok lar... Joking wif u oni...        NaN   \n",
       "2  spam  Free entry in 2 a wkly comp to win FA Cup fina...        NaN   \n",
       "3   ham  U dun say so early hor... U c already then say...        NaN   \n",
       "4   ham  Nah I don't think he goes to usf, he lives aro...        NaN   \n",
       "\n",
       "  Unnamed: 3 Unnamed: 4  \n",
       "0        NaN        NaN  \n",
       "1        NaN        NaN  \n",
       "2        NaN        NaN  \n",
       "3        NaN        NaN  \n",
       "4        NaN        NaN  "
      ]
     },
     "execution_count": 2,
     "metadata": {},
     "output_type": "execute_result"
    }
   ],
   "source": [
    "sms = pd.read_csv('../data/sms-spam.csv',delimiter=',',encoding='latin-1')\n",
    "\n",
    "sms.head()"
   ]
  },
  {
   "cell_type": "markdown",
   "metadata": {
    "_cell_guid": "dc912e7b-d1b9-7937-ebeb-5310b67017b1"
   },
   "source": [
    "Now drop \"unnamed\" columns and rename v1 and v2 to \"label\" and \"message\""
   ]
  },
  {
   "cell_type": "code",
   "execution_count": 3,
   "metadata": {
    "_cell_guid": "85bb6f9f-77db-6352-e53e-79bc29112304",
    "collapsed": true
   },
   "outputs": [],
   "source": [
    "sms = sms.drop(['Unnamed: 2','Unnamed: 3','Unnamed: 4'],axis=1)\n",
    "sms = sms.rename(columns = {'v1':'label','v2':'message'})"
   ]
  },
  {
   "cell_type": "markdown",
   "metadata": {
    "_cell_guid": "e2fa50fd-b634-c505-c6a5-ec2155e32d2e"
   },
   "source": [
    "Let's look into our data"
   ]
  },
  {
   "cell_type": "code",
   "execution_count": 4,
   "metadata": {
    "_cell_guid": "0ad05287-4fa7-835a-2a58-ef273065875f"
   },
   "outputs": [
    {
     "data": {
      "text/html": [
       "<div>\n",
       "<style scoped>\n",
       "    .dataframe tbody tr th:only-of-type {\n",
       "        vertical-align: middle;\n",
       "    }\n",
       "\n",
       "    .dataframe tbody tr th {\n",
       "        vertical-align: top;\n",
       "    }\n",
       "\n",
       "    .dataframe thead tr th {\n",
       "        text-align: left;\n",
       "    }\n",
       "\n",
       "    .dataframe thead tr:last-of-type th {\n",
       "        text-align: right;\n",
       "    }\n",
       "</style>\n",
       "<table border=\"1\" class=\"dataframe\">\n",
       "  <thead>\n",
       "    <tr>\n",
       "      <th></th>\n",
       "      <th colspan=\"4\" halign=\"left\">message</th>\n",
       "    </tr>\n",
       "    <tr>\n",
       "      <th></th>\n",
       "      <th>count</th>\n",
       "      <th>unique</th>\n",
       "      <th>top</th>\n",
       "      <th>freq</th>\n",
       "    </tr>\n",
       "    <tr>\n",
       "      <th>label</th>\n",
       "      <th></th>\n",
       "      <th></th>\n",
       "      <th></th>\n",
       "      <th></th>\n",
       "    </tr>\n",
       "  </thead>\n",
       "  <tbody>\n",
       "    <tr>\n",
       "      <th>ham</th>\n",
       "      <td>4825</td>\n",
       "      <td>4516</td>\n",
       "      <td>Sorry, I'll call later</td>\n",
       "      <td>30</td>\n",
       "    </tr>\n",
       "    <tr>\n",
       "      <th>spam</th>\n",
       "      <td>747</td>\n",
       "      <td>653</td>\n",
       "      <td>Please call our customer service representativ...</td>\n",
       "      <td>4</td>\n",
       "    </tr>\n",
       "  </tbody>\n",
       "</table>\n",
       "</div>"
      ],
      "text/plain": [
       "      message                                                               \n",
       "        count unique                                                top freq\n",
       "label                                                                       \n",
       "ham      4825   4516                             Sorry, I'll call later   30\n",
       "spam      747    653  Please call our customer service representativ...    4"
      ]
     },
     "execution_count": 4,
     "metadata": {},
     "output_type": "execute_result"
    }
   ],
   "source": [
    "sms.groupby('label').describe()"
   ]
  },
  {
   "cell_type": "markdown",
   "metadata": {
    "_cell_guid": "053b2b31-e65f-5514-5f07-a16b2c42f6c7"
   },
   "source": [
    "Intresting that \"Sorry, I'll call later\" appears only 30 times here =)"
   ]
  },
  {
   "cell_type": "markdown",
   "metadata": {
    "_cell_guid": "d95f59db-4713-1f64-083c-fc8a25708234"
   },
   "source": [
    "Now let's create new feature \"message length\" and plot it to see if it's of any interest"
   ]
  },
  {
   "cell_type": "code",
   "execution_count": 5,
   "metadata": {
    "_cell_guid": "6abbc5cb-3451-8de5-c9cc-0d4a04dbea02"
   },
   "outputs": [
    {
     "data": {
      "text/html": [
       "<div>\n",
       "<style scoped>\n",
       "    .dataframe tbody tr th:only-of-type {\n",
       "        vertical-align: middle;\n",
       "    }\n",
       "\n",
       "    .dataframe tbody tr th {\n",
       "        vertical-align: top;\n",
       "    }\n",
       "\n",
       "    .dataframe thead th {\n",
       "        text-align: right;\n",
       "    }\n",
       "</style>\n",
       "<table border=\"1\" class=\"dataframe\">\n",
       "  <thead>\n",
       "    <tr style=\"text-align: right;\">\n",
       "      <th></th>\n",
       "      <th>label</th>\n",
       "      <th>message</th>\n",
       "      <th>length</th>\n",
       "    </tr>\n",
       "  </thead>\n",
       "  <tbody>\n",
       "    <tr>\n",
       "      <th>0</th>\n",
       "      <td>ham</td>\n",
       "      <td>Go until jurong point, crazy.. Available only ...</td>\n",
       "      <td>111</td>\n",
       "    </tr>\n",
       "    <tr>\n",
       "      <th>1</th>\n",
       "      <td>ham</td>\n",
       "      <td>Ok lar... Joking wif u oni...</td>\n",
       "      <td>29</td>\n",
       "    </tr>\n",
       "    <tr>\n",
       "      <th>2</th>\n",
       "      <td>spam</td>\n",
       "      <td>Free entry in 2 a wkly comp to win FA Cup fina...</td>\n",
       "      <td>155</td>\n",
       "    </tr>\n",
       "    <tr>\n",
       "      <th>3</th>\n",
       "      <td>ham</td>\n",
       "      <td>U dun say so early hor... U c already then say...</td>\n",
       "      <td>49</td>\n",
       "    </tr>\n",
       "    <tr>\n",
       "      <th>4</th>\n",
       "      <td>ham</td>\n",
       "      <td>Nah I don't think he goes to usf, he lives aro...</td>\n",
       "      <td>61</td>\n",
       "    </tr>\n",
       "  </tbody>\n",
       "</table>\n",
       "</div>"
      ],
      "text/plain": [
       "  label                                            message  length\n",
       "0   ham  Go until jurong point, crazy.. Available only ...     111\n",
       "1   ham                      Ok lar... Joking wif u oni...      29\n",
       "2  spam  Free entry in 2 a wkly comp to win FA Cup fina...     155\n",
       "3   ham  U dun say so early hor... U c already then say...      49\n",
       "4   ham  Nah I don't think he goes to usf, he lives aro...      61"
      ]
     },
     "execution_count": 5,
     "metadata": {},
     "output_type": "execute_result"
    }
   ],
   "source": [
    "sms['length'] = sms['message'].apply(len)\n",
    "sms.head()"
   ]
  },
  {
   "cell_type": "code",
   "execution_count": 6,
   "metadata": {
    "_cell_guid": "4533b9ae-fea2-d346-321b-f73bd12d677d"
   },
   "outputs": [
    {
     "data": {
      "image/png": "[encoded data removed]",
      "text/plain": [
       "<Figure size 792x360 with 2 Axes>"
      ]
     },
     "metadata": {},
     "output_type": "display_data"
    }
   ],
   "source": [
    "mpl.rcParams['patch.force_edgecolor'] = True\n",
    "plt.style.use('seaborn-bright')\n",
    "sms.hist(column='length', by='label', bins=50,figsize=(11,5))\n",
    "plt.savefig(\"../img/sms-length-distribution.eps\")\n",
    "plt.show()"
   ]
  },
  {
   "cell_type": "markdown",
   "metadata": {
    "_cell_guid": "0e5e7b86-5ad3-3a83-65a9-016bdb745904"
   },
   "source": [
    "Looks like the lengthy is the message, more likely it is a spam. Let's not forget this"
   ]
  },
  {
   "cell_type": "markdown",
   "metadata": {
    "_cell_guid": "2ae25190-c9b7-101b-6042-e8f9cf382e46"
   },
   "source": [
    "### Text processing and vectorizing our meddages"
   ]
  },
  {
   "cell_type": "markdown",
   "metadata": {
    "_cell_guid": "1e8ef576-3a86-7824-474d-d21e7dcba1f9"
   },
   "source": [
    "Let's create new data frame. We'll need a copy later on"
   ]
  },
  {
   "cell_type": "code",
   "execution_count": 7,
   "metadata": {
    "_cell_guid": "1db101ba-5949-0c9c-6581-7b7d5e51de80",
    "collapsed": true
   },
   "outputs": [],
   "source": [
    "text_feat = sms['message'].copy()"
   ]
  },
  {
   "cell_type": "markdown",
   "metadata": {
    "_cell_guid": "bd1d6d0c-39e2-65fb-1795-9c75bf51f29e"
   },
   "source": [
    "Now define our tex precessing function. It will remove any punctuation and stopwords aswell."
   ]
  },
  {
   "cell_type": "code",
   "execution_count": 8,
   "metadata": {
    "_cell_guid": "078389bf-00ec-13f4-78cd-f6ea818ff6f4",
    "collapsed": true
   },
   "outputs": [],
   "source": [
    "def text_process(text):\n",
    "    \n",
    "    text = text.translate(str.maketrans('', '', string.punctuation))\n",
    "    text = [word for word in text.split() if word.lower() not in stopwords.words('english')]\n",
    "    \n",
    "    return \" \".join(text)"
   ]
  },
  {
   "cell_type": "code",
   "execution_count": 9,
   "metadata": {
    "_cell_guid": "79b2e2b0-008d-b648-1031-f94c848a3064",
    "collapsed": true
   },
   "outputs": [],
   "source": [
    "text_feat = text_feat.apply(text_process)"
   ]
  },
  {
   "cell_type": "code",
   "execution_count": 10,
   "metadata": {
    "_cell_guid": "d6dce35d-b2b3-cfb5-42b1-a95aeac177a1",
    "collapsed": true
   },
   "outputs": [],
   "source": [
    "vectorizer = TfidfVectorizer(\"english\")"
   ]
  },
  {
   "cell_type": "code",
   "execution_count": 11,
   "metadata": {
    "_cell_guid": "d9d11f55-f800-dd25-f001-dcc3c6a7fea4",
    "collapsed": true
   },
   "outputs": [],
   "source": [
    "features = vectorizer.fit_transform(text_feat)"
   ]
  },
  {
   "cell_type": "code",
   "execution_count": 12,
   "metadata": {
    "collapsed": true
   },
   "outputs": [],
   "source": [
    "labels = LabelEncoder().fit_transform(sms['label'])\n",
    "labels = labels.reshape(-1,1)"
   ]
  },
  {
   "cell_type": "code",
   "execution_count": 13,
   "metadata": {},
   "outputs": [
    {
     "data": {
      "text/plain": [
       "(5572,)"
      ]
     },
     "execution_count": 13,
     "metadata": {},
     "output_type": "execute_result"
    }
   ],
   "source": [
    "text_feat.shape"
   ]
  },
  {
   "cell_type": "code",
   "execution_count": 14,
   "metadata": {},
   "outputs": [
    {
     "data": {
      "text/plain": [
       "(5572, 9403)"
      ]
     },
     "execution_count": 14,
     "metadata": {},
     "output_type": "execute_result"
    }
   ],
   "source": [
    "features.shape"
   ]
  },
  {
   "cell_type": "markdown",
   "metadata": {
    "_cell_guid": "cfd14d8a-d700-ee85-f744-9d4562dd9fb0"
   },
   "source": [
    "###  Classifiers and predictions"
   ]
  },
  {
   "cell_type": "markdown",
   "metadata": {
    "_cell_guid": "08f8dcd4-2161-e373-2fc4-e9ecc631810d"
   },
   "source": [
    "First of all let's split our features to test and train set"
   ]
  },
  {
   "cell_type": "code",
   "execution_count": 15,
   "metadata": {
    "_cell_guid": "346766bb-d722-dca1-71d0-fd0f0dafcbae",
    "collapsed": true
   },
   "outputs": [],
   "source": [
    "features_train, features_test, labels_train, labels_test = train_test_split(features, labels, test_size=0.3, random_state=111)"
   ]
  },
  {
   "cell_type": "markdown",
   "metadata": {
    "_cell_guid": "1eaef9ae-d68a-4001-8adb-0e2d031be876"
   },
   "source": [
    "Now let's import bunch of classifiers, initialize them and make a dictionary to itereate through"
   ]
  },
  {
   "cell_type": "code",
   "execution_count": 16,
   "metadata": {
    "_cell_guid": "a4767634-1a31-ac41-bf62-34c66bfda0b1"
   },
   "outputs": [
    {
     "name": "stderr",
     "output_type": "stream",
     "text": [
      "/Users/alex/anaconda/envs/gc/lib/python3.6/site-packages/sklearn/ensemble/weight_boosting.py:29: DeprecationWarning: numpy.core.umath_tests is an internal NumPy module and should not be imported. It will be removed in a future NumPy release.\n",
      "  from numpy.core.umath_tests import inner1d\n"
     ]
    }
   ],
   "source": [
    "from sklearn.linear_model import LogisticRegression\n",
    "from sklearn.svm import SVC\n",
    "from sklearn.naive_bayes import MultinomialNB\n",
    "from sklearn.tree import DecisionTreeClassifier\n",
    "from sklearn.neighbors import KNeighborsClassifier\n",
    "from sklearn.ensemble import RandomForestClassifier\n",
    "from sklearn.ensemble import AdaBoostClassifier\n",
    "from sklearn.ensemble import BaggingClassifier\n",
    "from sklearn.ensemble import ExtraTreesClassifier\n",
    "from sklearn.metrics import precision_score, recall_score, accuracy_score, f1_score"
   ]
  },
  {
   "cell_type": "code",
   "execution_count": 17,
   "metadata": {
    "_cell_guid": "6e889ffa-59d8-377c-867d-25c67888765f",
    "collapsed": true
   },
   "outputs": [],
   "source": [
    "svc = SVC(kernel='sigmoid', gamma=1.0)\n",
    "knc = KNeighborsClassifier(n_neighbors=49)\n",
    "mnb = MultinomialNB(alpha=0.2)\n",
    "dtc = DecisionTreeClassifier(min_samples_split=7, random_state=111)\n",
    "lrc = LogisticRegression(solver='liblinear', penalty='l1')\n",
    "rfc = RandomForestClassifier(n_estimators=31, random_state=111)\n",
    "abc = AdaBoostClassifier(n_estimators=62, random_state=111)\n",
    "bc = BaggingClassifier(n_estimators=9, random_state=111)\n",
    "etc = ExtraTreesClassifier(n_estimators=9, random_state=111)"
   ]
  },
  {
   "cell_type": "code",
   "execution_count": 18,
   "metadata": {
    "_cell_guid": "8e9f8c83-33fb-312a-fb44-d6f8c955f427",
    "collapsed": true
   },
   "outputs": [],
   "source": [
    "clfs = {'SVC' : svc,'KN' : knc, 'NB': mnb, 'DT': dtc, 'LR': lrc, 'RF': rfc, 'AdaBoost': abc, 'BgC': bc, 'ETC': etc}"
   ]
  },
  {
   "cell_type": "markdown",
   "metadata": {
    "_cell_guid": "030a45db-d84a-b8e2-30ca-09f3aff9501a"
   },
   "source": [
    "Let's make functions to fit our classifiers and make predictions"
   ]
  },
  {
   "cell_type": "code",
   "execution_count": 19,
   "metadata": {
    "_cell_guid": "03099d8c-cac3-98a6-a68c-b6f22aed227c",
    "collapsed": true
   },
   "outputs": [],
   "source": [
    "def train_classifier(clf, feature_train, labels_train):    \n",
    "    clf.fit(feature_train, labels_train)"
   ]
  },
  {
   "cell_type": "code",
   "execution_count": 20,
   "metadata": {
    "_cell_guid": "c74b2aba-431c-89e9-80be-0cf5ac718775",
    "collapsed": true
   },
   "outputs": [],
   "source": [
    "def predict_labels(clf, features):\n",
    "    return (clf.predict(features))"
   ]
  },
  {
   "cell_type": "markdown",
   "metadata": {
    "_cell_guid": "5f0b2d9a-6301-3515-4363-ffcd6b8b6e1b"
   },
   "source": [
    "Now iterate through classifiers and save the results"
   ]
  },
  {
   "cell_type": "code",
   "execution_count": 21,
   "metadata": {
    "collapsed": true
   },
   "outputs": [],
   "source": [
    "import time"
   ]
  },
  {
   "cell_type": "code",
   "execution_count": 22,
   "metadata": {
    "_cell_guid": "803e954a-ca19-091d-85d6-7f58f0df4879"
   },
   "outputs": [
    {
     "name": "stderr",
     "output_type": "stream",
     "text": [
      "/Users/alex/anaconda/envs/gc/lib/python3.6/site-packages/sklearn/utils/validation.py:578: DataConversionWarning: A column-vector y was passed when a 1d array was expected. Please change the shape of y to (n_samples, ), for example using ravel().\n",
      "  y = column_or_1d(y, warn=True)\n",
      "/Users/alex/anaconda/envs/gc/lib/python3.6/site-packages/ipykernel/__main__.py:2: DataConversionWarning: A column-vector y was passed when a 1d array was expected. Please change the shape of y to (n_samples, ), for example using ravel().\n",
      "  from ipykernel import kernelapp as app\n",
      "/Users/alex/anaconda/envs/gc/lib/python3.6/site-packages/ipykernel/__main__.py:2: DataConversionWarning: A column-vector y was passed when a 1d array was expected. Please change the shape of y to (n_samples,), for example using ravel().\n",
      "  from ipykernel import kernelapp as app\n",
      "/Users/alex/anaconda/envs/gc/lib/python3.6/site-packages/sklearn/utils/validation.py:578: DataConversionWarning: A column-vector y was passed when a 1d array was expected. Please change the shape of y to (n_samples, ), for example using ravel().\n",
      "  y = column_or_1d(y, warn=True)\n",
      "/Users/alex/anaconda/envs/gc/lib/python3.6/site-packages/sklearn/utils/validation.py:578: DataConversionWarning: A column-vector y was passed when a 1d array was expected. Please change the shape of y to (n_samples, ), for example using ravel().\n",
      "  y = column_or_1d(y, warn=True)\n",
      "/Users/alex/anaconda/envs/gc/lib/python3.6/site-packages/ipykernel/__main__.py:2: DataConversionWarning: A column-vector y was passed when a 1d array was expected. Please change the shape of y to (n_samples,), for example using ravel().\n",
      "  from ipykernel import kernelapp as app\n"
     ]
    }
   ],
   "source": [
    "pred_scores = []\n",
    "for k,v in clfs.items():\n",
    "    since = time.time()\n",
    "   \n",
    "    train_classifier(v, features_train, labels_train)\n",
    "    time_elapsed = time.time() - since\n",
    "    \n",
    "    pred = predict_labels(v,features_test)\n",
    "    pred_scores.append((k, [precision_score(labels_test,pred), recall_score(labels_test,pred), accuracy_score(labels_test,pred), f1_score(labels_test,pred), '{:.0f}m {:.4f}s'.format(time_elapsed // 60, time_elapsed % 60)]))"
   ]
  },
  {
   "cell_type": "code",
   "execution_count": 23,
   "metadata": {
    "collapsed": true
   },
   "outputs": [],
   "source": [
    "# pred_scores"
   ]
  },
  {
   "cell_type": "code",
   "execution_count": 24,
   "metadata": {
    "_cell_guid": "52b248b9-679b-bb99-923a-97ce37440bfc"
   },
   "outputs": [
    {
     "data": {
      "text/html": [
       "<div>\n",
       "<style scoped>\n",
       "    .dataframe tbody tr th:only-of-type {\n",
       "        vertical-align: middle;\n",
       "    }\n",
       "\n",
       "    .dataframe tbody tr th {\n",
       "        vertical-align: top;\n",
       "    }\n",
       "\n",
       "    .dataframe thead th {\n",
       "        text-align: right;\n",
       "    }\n",
       "</style>\n",
       "<table border=\"1\" class=\"dataframe\">\n",
       "  <thead>\n",
       "    <tr style=\"text-align: right;\">\n",
       "      <th></th>\n",
       "      <th>Precision</th>\n",
       "      <th>Recall</th>\n",
       "      <th>Accuracy</th>\n",
       "      <th>F1</th>\n",
       "      <th>Training Time (s)</th>\n",
       "    </tr>\n",
       "  </thead>\n",
       "  <tbody>\n",
       "    <tr>\n",
       "      <th>SVC</th>\n",
       "      <td>0.980198</td>\n",
       "      <td>0.853448</td>\n",
       "      <td>0.977273</td>\n",
       "      <td>0.912442</td>\n",
       "      <td>0m 0.3706s</td>\n",
       "    </tr>\n",
       "    <tr>\n",
       "      <th>KN</th>\n",
       "      <td>0.990826</td>\n",
       "      <td>0.465517</td>\n",
       "      <td>0.925239</td>\n",
       "      <td>0.633431</td>\n",
       "      <td>0m 0.0014s</td>\n",
       "    </tr>\n",
       "    <tr>\n",
       "      <th>NB</th>\n",
       "      <td>0.951965</td>\n",
       "      <td>0.939655</td>\n",
       "      <td>0.985048</td>\n",
       "      <td>0.945770</td>\n",
       "      <td>0m 0.0017s</td>\n",
       "    </tr>\n",
       "    <tr>\n",
       "      <th>DT</th>\n",
       "      <td>0.866972</td>\n",
       "      <td>0.814655</td>\n",
       "      <td>0.956938</td>\n",
       "      <td>0.840000</td>\n",
       "      <td>0m 0.1950s</td>\n",
       "    </tr>\n",
       "    <tr>\n",
       "      <th>LR</th>\n",
       "      <td>0.900621</td>\n",
       "      <td>0.625000</td>\n",
       "      <td>0.938397</td>\n",
       "      <td>0.737913</td>\n",
       "      <td>0m 0.0085s</td>\n",
       "    </tr>\n",
       "    <tr>\n",
       "      <th>RF</th>\n",
       "      <td>1.000000</td>\n",
       "      <td>0.827586</td>\n",
       "      <td>0.976077</td>\n",
       "      <td>0.905660</td>\n",
       "      <td>0m 1.2973s</td>\n",
       "    </tr>\n",
       "    <tr>\n",
       "      <th>AdaBoost</th>\n",
       "      <td>0.967213</td>\n",
       "      <td>0.762931</td>\n",
       "      <td>0.963517</td>\n",
       "      <td>0.853012</td>\n",
       "      <td>0m 2.5404s</td>\n",
       "    </tr>\n",
       "    <tr>\n",
       "      <th>BgC</th>\n",
       "      <td>0.910798</td>\n",
       "      <td>0.836207</td>\n",
       "      <td>0.965909</td>\n",
       "      <td>0.871910</td>\n",
       "      <td>0m 1.0032s</td>\n",
       "    </tr>\n",
       "    <tr>\n",
       "      <th>ETC</th>\n",
       "      <td>1.000000</td>\n",
       "      <td>0.788793</td>\n",
       "      <td>0.970694</td>\n",
       "      <td>0.881928</td>\n",
       "      <td>0m 0.9153s</td>\n",
       "    </tr>\n",
       "  </tbody>\n",
       "</table>\n",
       "</div>"
      ],
      "text/plain": [
       "          Precision    Recall  Accuracy        F1 Training Time (s)\n",
       "SVC        0.980198  0.853448  0.977273  0.912442        0m 0.3706s\n",
       "KN         0.990826  0.465517  0.925239  0.633431        0m 0.0014s\n",
       "NB         0.951965  0.939655  0.985048  0.945770        0m 0.0017s\n",
       "DT         0.866972  0.814655  0.956938  0.840000        0m 0.1950s\n",
       "LR         0.900621  0.625000  0.938397  0.737913        0m 0.0085s\n",
       "RF         1.000000  0.827586  0.976077  0.905660        0m 1.2973s\n",
       "AdaBoost   0.967213  0.762931  0.963517  0.853012        0m 2.5404s\n",
       "BgC        0.910798  0.836207  0.965909  0.871910        0m 1.0032s\n",
       "ETC        1.000000  0.788793  0.970694  0.881928        0m 0.9153s"
      ]
     },
     "execution_count": 24,
     "metadata": {},
     "output_type": "execute_result"
    }
   ],
   "source": [
    "df = pd.DataFrame.from_items(pred_scores,orient='index', columns=['Precision', 'Recall', 'Accuracy', 'F1', 'Training Time (s)'])\n",
    "df"
   ]
  },
  {
   "cell_type": "code",
   "execution_count": 25,
   "metadata": {
    "_cell_guid": "c8f328a9-2fb9-70f3-97d7-77be91920131"
   },
   "outputs": [
    {
     "data": {
      "image/png": "[encoded data removed]",
      "text/plain": [
       "<Figure size 792x432 with 1 Axes>"
      ]
     },
     "metadata": {},
     "output_type": "display_data"
    }
   ],
   "source": [
    "df.plot(kind='bar', y=\"Accuracy\", ylim=(0.9,1.0), figsize=(11,6), align='center', colormap=\"Accent\")\n",
    "plt.xticks(np.arange(9), df.index)\n",
    "plt.ylabel('Accuracy Score')\n",
    "plt.title('Distribution by Classifier')\n",
    "plt.legend(bbox_to_anchor=(1.05, 1), loc=2, borderaxespad=0.)\n",
    "plt.savefig(\"../img/sms-acc-basemodel-v3-stop.eps\")\n",
    "plt.show()"
   ]
  },
  {
   "cell_type": "markdown",
   "metadata": {
    "_cell_guid": "9f0677da-7086-16bd-72ee-9b7773e450a6"
   },
   "source": [
    "Looks like ensemble classifiers are not doing as good as expected."
   ]
  },
  {
   "cell_type": "markdown",
   "metadata": {
    "_cell_guid": "cbf377a8-4f68-b82a-3c19-e26f73f40e35"
   },
   "source": [
    "### Voting classifier"
   ]
  },
  {
   "cell_type": "markdown",
   "metadata": {
    "_cell_guid": "7e8131cd-5934-4411-9687-f61a27751a95"
   },
   "source": [
    "We are using ensemble algorithms here, but what about ensemble of ensembles? Will it beat NB?"
   ]
  },
  {
   "cell_type": "code",
   "execution_count": 26,
   "metadata": {
    "_cell_guid": "e76bd4e6-6384-dcc7-2d5e-1731383c3af7",
    "collapsed": true
   },
   "outputs": [],
   "source": [
    "from sklearn.ensemble import VotingClassifier"
   ]
  },
  {
   "cell_type": "code",
   "execution_count": 27,
   "metadata": {
    "_cell_guid": "9d59abce-ba88-1f77-b6cd-2f992fec95ac",
    "collapsed": true
   },
   "outputs": [],
   "source": [
    "eclf = VotingClassifier(estimators=[('BgC', bc), ('ETC', etc), ('RF', rfc), ('Ada', abc)], voting='soft')"
   ]
  },
  {
   "cell_type": "code",
   "execution_count": 28,
   "metadata": {
    "_cell_guid": "743afa06-5134-466b-cc31-18f54eb93f0b"
   },
   "outputs": [
    {
     "name": "stderr",
     "output_type": "stream",
     "text": [
      "/Users/alex/anaconda/envs/gc/lib/python3.6/site-packages/sklearn/preprocessing/label.py:95: DataConversionWarning: A column-vector y was passed when a 1d array was expected. Please change the shape of y to (n_samples, ), for example using ravel().\n",
      "  y = column_or_1d(y, warn=True)\n",
      "/Users/alex/anaconda/envs/gc/lib/python3.6/site-packages/sklearn/preprocessing/label.py:128: DataConversionWarning: A column-vector y was passed when a 1d array was expected. Please change the shape of y to (n_samples, ), for example using ravel().\n",
      "  y = column_or_1d(y, warn=True)\n"
     ]
    },
    {
     "data": {
      "text/plain": [
       "VotingClassifier(estimators=[('BgC', BaggingClassifier(base_estimator=None, bootstrap=True,\n",
       "         bootstrap_features=False, max_features=1.0, max_samples=1.0,\n",
       "         n_estimators=9, n_jobs=1, oob_score=False, random_state=111,\n",
       "         verbose=0, warm_start=False)), ('ETC', ExtraTreesClassifier(bootstrap=False,...hm='SAMME.R', base_estimator=None,\n",
       "          learning_rate=1.0, n_estimators=62, random_state=111))],\n",
       "         flatten_transform=None, n_jobs=1, voting='soft', weights=None)"
      ]
     },
     "execution_count": 28,
     "metadata": {},
     "output_type": "execute_result"
    }
   ],
   "source": [
    "eclf.fit(features_train,labels_train)"
   ]
  },
  {
   "cell_type": "code",
   "execution_count": 29,
   "metadata": {
    "_cell_guid": "d834da3c-3dc9-e209-0c80-9f93c3d8a519"
   },
   "outputs": [
    {
     "name": "stderr",
     "output_type": "stream",
     "text": [
      "/Users/alex/anaconda/envs/gc/lib/python3.6/site-packages/sklearn/preprocessing/label.py:151: DeprecationWarning: The truth value of an empty array is ambiguous. Returning False, but in future this will result in an error. Use `array.size > 0` to check that an array is not empty.\n",
      "  if diff:\n"
     ]
    }
   ],
   "source": [
    "pred = eclf.predict(features_test)"
   ]
  },
  {
   "cell_type": "code",
   "execution_count": 30,
   "metadata": {
    "_cell_guid": "4de3ce6c-3c95-9fe5-e5dd-0888db0bbb12"
   },
   "outputs": [
    {
     "name": "stdout",
     "output_type": "stream",
     "text": [
      "0.9897959183673469 0.8362068965517241 0.9760765550239234 0.9065420560747662\n"
     ]
    }
   ],
   "source": [
    "print(precision_score(labels_test,pred), recall_score(labels_test,pred), accuracy_score(labels_test,pred), f1_score(labels_test,pred))"
   ]
  },
  {
   "cell_type": "markdown",
   "metadata": {
    "_cell_guid": "7f834a34-00d0-d310-91fd-4e5282811ae4"
   },
   "source": [
    "Better but nope."
   ]
  },
  {
   "cell_type": "markdown",
   "metadata": {
    "_cell_guid": "d18c773a-c280-fa11-cd9c-37fd5046b78a",
    "collapsed": true
   },
   "source": [
    "### RNN\n",
    "Define the RNN structure."
   ]
  },
  {
   "cell_type": "code",
   "execution_count": 31,
   "metadata": {},
   "outputs": [
    {
     "name": "stderr",
     "output_type": "stream",
     "text": [
      "Using TensorFlow backend.\n"
     ]
    }
   ],
   "source": [
    "from keras.models import Model\n",
    "from keras.layers import LSTM, Activation, Dense, Dropout, Input, Embedding\n",
    "from keras.optimizers import RMSprop\n",
    "from keras.preprocessing.text import Tokenizer\n",
    "from keras.preprocessing import sequence\n",
    "from keras.utils import to_categorical\n",
    "from keras.callbacks import EarlyStopping\n",
    "from keras.callbacks import Callback\n"
   ]
  },
  {
   "cell_type": "markdown",
   "metadata": {},
   "source": [
    "### Process the data\n",
    "* Tokenize the data and convert the text to sequences.\n",
    "* Add padding to ensure that all the sequences have the same shape.\n",
    "* There are many ways of taking the *max_len* and here an arbitrary length of 500 is chosen. (From the Fig, almost all the sentences have the length < 200)"
   ]
  },
  {
   "cell_type": "code",
   "execution_count": 32,
   "metadata": {
    "collapsed": true
   },
   "outputs": [],
   "source": [
    "features_lstm = text_feat\n",
    "labels_lstm = labels"
   ]
  },
  {
   "cell_type": "code",
   "execution_count": 33,
   "metadata": {
    "collapsed": true
   },
   "outputs": [],
   "source": [
    "max_words = 1000\n",
    "max_len = 200 # n_features\n",
    "tok = Tokenizer(num_words=max_words)\n",
    "tok.fit_on_texts(features_lstm)\n",
    "sequences = tok.texts_to_sequences(features_lstm)\n",
    "features_lstm = sequence.pad_sequences(sequences,maxlen=max_len)"
   ]
  },
  {
   "cell_type": "code",
   "execution_count": 34,
   "metadata": {},
   "outputs": [
    {
     "data": {
      "text/plain": [
       "(5572, 200)"
      ]
     },
     "execution_count": 34,
     "metadata": {},
     "output_type": "execute_result"
    }
   ],
   "source": [
    "features_lstm.shape"
   ]
  },
  {
   "cell_type": "code",
   "execution_count": 35,
   "metadata": {},
   "outputs": [
    {
     "data": {
      "text/plain": [
       "(5572, 1)"
      ]
     },
     "execution_count": 35,
     "metadata": {},
     "output_type": "execute_result"
    }
   ],
   "source": [
    "labels_lstm.shape"
   ]
  },
  {
   "cell_type": "code",
   "execution_count": 36,
   "metadata": {
    "collapsed": true
   },
   "outputs": [],
   "source": [
    "features_lstm_train, features_lstm_test, labels_lstm_train, labels_lstm_test = train_test_split(features_lstm, labels_lstm, test_size=0.3, random_state=111, stratify=labels_lstm)\n"
   ]
  },
  {
   "cell_type": "code",
   "execution_count": 37,
   "metadata": {
    "collapsed": true
   },
   "outputs": [],
   "source": [
    "def RNN():\n",
    "    inputs = Input(name='inputs',shape=[max_len])\n",
    "    layer = Embedding(max_words,50,input_length=max_len)(inputs)\n",
    "    layer = LSTM(64)(layer)\n",
    "    layer = Dense(256,name='FC1')(layer)\n",
    "    layer = Activation('relu')(layer)\n",
    "    layer = Dropout(0.5)(layer)\n",
    "    layer = Dense(1,name='out_layer')(layer)\n",
    "    layer = Activation('sigmoid')(layer)\n",
    "    model = Model(inputs=inputs,outputs=layer)\n",
    "    return model"
   ]
  },
  {
   "cell_type": "markdown",
   "metadata": {},
   "source": [
    "Call the function and compile the model."
   ]
  },
  {
   "cell_type": "code",
   "execution_count": 38,
   "metadata": {},
   "outputs": [
    {
     "name": "stdout",
     "output_type": "stream",
     "text": [
      "_________________________________________________________________\n",
      "Layer (type)                 Output Shape              Param #   \n",
      "=================================================================\n",
      "inputs (InputLayer)          (None, 200)               0         \n",
      "_________________________________________________________________\n",
      "embedding_1 (Embedding)      (None, 200, 50)           50000     \n",
      "_________________________________________________________________\n",
      "lstm_1 (LSTM)                (None, 64)                29440     \n",
      "_________________________________________________________________\n",
      "FC1 (Dense)                  (None, 256)               16640     \n",
      "_________________________________________________________________\n",
      "activation_1 (Activation)    (None, 256)               0         \n",
      "_________________________________________________________________\n",
      "dropout_1 (Dropout)          (None, 256)               0         \n",
      "_________________________________________________________________\n",
      "out_layer (Dense)            (None, 1)                 257       \n",
      "_________________________________________________________________\n",
      "activation_2 (Activation)    (None, 1)                 0         \n",
      "=================================================================\n",
      "Total params: 96,337\n",
      "Trainable params: 96,337\n",
      "Non-trainable params: 0\n",
      "_________________________________________________________________\n"
     ]
    }
   ],
   "source": [
    "model = RNN()\n",
    "model.summary()\n",
    "model.compile(loss='binary_crossentropy',optimizer=RMSprop(),metrics=['accuracy'])"
   ]
  },
  {
   "cell_type": "code",
   "execution_count": 39,
   "metadata": {},
   "outputs": [
    {
     "name": "stdout",
     "output_type": "stream",
     "text": [
      "Train on 3120 samples, validate on 780 samples\n",
      "Epoch 1/10\n",
      "3120/3120 [==============================] - 7s 2ms/step - loss: 0.3713 - acc: 0.8462 - val_loss: 0.2276 - val_acc: 0.8962\n",
      "Epoch 2/10\n",
      "3120/3120 [==============================] - 7s 2ms/step - loss: 0.1536 - acc: 0.9529 - val_loss: 0.0940 - val_acc: 0.9795\n",
      "Epoch 3/10\n",
      "3120/3120 [==============================] - 8s 2ms/step - loss: 0.0720 - acc: 0.9804 - val_loss: 0.1249 - val_acc: 0.9718\n"
     ]
    }
   ],
   "source": [
    "since = time.time()\n",
    "    \n",
    "\n",
    "model.fit(features_lstm_train, labels_lstm_train, epochs=10, batch_size=128,validation_split=0.2,\n",
    "                      callbacks=[EarlyStopping(monitor='val_loss',min_delta=0.0001)])\n",
    "\n",
    "time_elapsed = time.time() - since"
   ]
  },
  {
   "cell_type": "code",
   "execution_count": 40,
   "metadata": {},
   "outputs": [
    {
     "name": "stdout",
     "output_type": "stream",
     "text": [
      "Training complete in 0m 22.1877s\n"
     ]
    }
   ],
   "source": [
    "print('Training complete in {:.0f}m {:.4f}s'.format(\n",
    "        time_elapsed // 60, time_elapsed % 60)) "
   ]
  },
  {
   "cell_type": "code",
   "execution_count": 41,
   "metadata": {
    "collapsed": true
   },
   "outputs": [],
   "source": [
    "pred = (np.asarray(model.predict(features_lstm_test, batch_size=128))).round()"
   ]
  },
  {
   "cell_type": "code",
   "execution_count": 42,
   "metadata": {
    "collapsed": true
   },
   "outputs": [],
   "source": [
    "pred_scores.append((\"LSTM\", [precision_score(labels_lstm_test,pred), recall_score(labels_lstm_test,pred), accuracy_score(labels_lstm_test,pred), f1_score(labels_lstm_test,pred), '{:.0f}m {:.4f}s'.format(time_elapsed // 60, time_elapsed % 60)]))\n"
   ]
  },
  {
   "cell_type": "markdown",
   "metadata": {},
   "source": [
    "### gcForest"
   ]
  },
  {
   "cell_type": "code",
   "execution_count": 43,
   "metadata": {
    "collapsed": true
   },
   "outputs": [],
   "source": [
    "import sys\n",
    "sys.path.append(\"..\") \n",
    "from gcforest.gcforest import GCForest\n",
    "from gcforest.utils.config_utils import load_json"
   ]
  },
  {
   "cell_type": "code",
   "execution_count": 44,
   "metadata": {
    "collapsed": true
   },
   "outputs": [],
   "source": [
    "def get_toy_config():\n",
    "    config = {}\n",
    "    ca_config = {}\n",
    "    ca_config[\"random_state\"] = 111\n",
    "    ca_config[\"max_layers\"] = 10\n",
    "    ca_config[\"early_stopping_rounds\"] = 3\n",
    "    ca_config[\"n_classes\"] = 2\n",
    "    ca_config[\"estimators\"] = []\n",
    "    ca_config[\"estimators\"].append({\"n_folds\": 5, \"type\": \"RandomForestClassifier\", \"n_estimators\": 31, \"n_jobs\": -1})\n",
    "    ca_config[\"estimators\"].append({\"n_folds\": 5, \"type\": \"MultinomialNB\", \"alpha\": 0.2})\n",
    "\n",
    "    config[\"cascade\"] = ca_config\n",
    "    return config"
   ]
  },
  {
   "cell_type": "code",
   "execution_count": 45,
   "metadata": {},
   "outputs": [
    {
     "name": "stderr",
     "output_type": "stream",
     "text": [
      "[ 2019-04-23 22:05:32,580][cascade_classifier.fit_transform] X_groups_train.shape=[(3900, 9403)],y_train.shape=(3900,),X_groups_test.shape=no_test,y_test.shape=no_test\n",
      "[ 2019-04-23 22:05:32,824][cascade_classifier.fit_transform] group_dims=[9403]\n",
      "[ 2019-04-23 22:05:32,825][cascade_classifier.fit_transform] group_starts=[0]\n",
      "[ 2019-04-23 22:05:32,826][cascade_classifier.fit_transform] group_ends=[9403]\n",
      "[ 2019-04-23 22:05:32,827][cascade_classifier.fit_transform] X_train.shape=(3900, 9403),X_test.shape=(0, 9403)\n",
      "[ 2019-04-23 22:05:33,012][cascade_classifier.fit_transform] [layer=0] look_indexs=[0], X_cur_train.shape=(3900, 9403), X_cur_test.shape=(0, 9403)\n",
      "[ 2019-04-23 22:05:37,035][kfold_wrapper.log_eval_metrics] Accuracy(layer_0 - estimator_0 - 5_folds.train_0.predict)=96.03%\n",
      "[ 2019-04-23 22:05:41,197][kfold_wrapper.log_eval_metrics] Accuracy(layer_0 - estimator_0 - 5_folds.train_1.predict)=95.38%\n",
      "[ 2019-04-23 22:05:45,674][kfold_wrapper.log_eval_metrics] Accuracy(layer_0 - estimator_0 - 5_folds.train_2.predict)=97.82%\n",
      "[ 2019-04-23 22:05:50,323][kfold_wrapper.log_eval_metrics] Accuracy(layer_0 - estimator_0 - 5_folds.train_3.predict)=97.31%\n",
      "[ 2019-04-23 22:05:54,284][kfold_wrapper.log_eval_metrics] Accuracy(layer_0 - estimator_0 - 5_folds.train_4.predict)=97.05%\n",
      "[ 2019-04-23 22:05:54,285][kfold_wrapper.log_eval_metrics] Accuracy(layer_0 - estimator_0 - 5_folds.train_cv.predict)=96.72%\n",
      "[ 2019-04-23 22:05:54,575][kfold_wrapper.log_eval_metrics] Accuracy(layer_0 - estimator_1 - 5_folds.train_0.predict)=97.18%\n",
      "[ 2019-04-23 22:05:54,885][kfold_wrapper.log_eval_metrics] Accuracy(layer_0 - estimator_1 - 5_folds.train_1.predict)=97.05%\n",
      "[ 2019-04-23 22:05:55,182][kfold_wrapper.log_eval_metrics] Accuracy(layer_0 - estimator_1 - 5_folds.train_2.predict)=98.46%\n",
      "[ 2019-04-23 22:05:55,417][kfold_wrapper.log_eval_metrics] Accuracy(layer_0 - estimator_1 - 5_folds.train_3.predict)=98.08%\n",
      "[ 2019-04-23 22:05:55,648][kfold_wrapper.log_eval_metrics] Accuracy(layer_0 - estimator_1 - 5_folds.train_4.predict)=98.46%\n",
      "[ 2019-04-23 22:05:55,649][kfold_wrapper.log_eval_metrics] Accuracy(layer_0 - estimator_1 - 5_folds.train_cv.predict)=97.85%\n",
      "[ 2019-04-23 22:05:55,650][cascade_classifier.calc_accuracy] Accuracy(layer_0 - train.classifier_average)=97.79%\n",
      "[ 2019-04-23 22:05:55,865][cascade_classifier.fit_transform] [layer=1] look_indexs=[0], X_cur_train.shape=(3900, 9407), X_cur_test.shape=(0, 9407)\n",
      "[ 2019-04-23 22:05:59,040][kfold_wrapper.log_eval_metrics] Accuracy(layer_1 - estimator_0 - 5_folds.train_0.predict)=98.33%\n",
      "[ 2019-04-23 22:06:01,692][kfold_wrapper.log_eval_metrics] Accuracy(layer_1 - estimator_0 - 5_folds.train_1.predict)=98.97%\n",
      "[ 2019-04-23 22:06:04,537][kfold_wrapper.log_eval_metrics] Accuracy(layer_1 - estimator_0 - 5_folds.train_2.predict)=98.72%\n",
      "[ 2019-04-23 22:06:07,564][kfold_wrapper.log_eval_metrics] Accuracy(layer_1 - estimator_0 - 5_folds.train_3.predict)=97.95%\n",
      "[ 2019-04-23 22:06:11,201][kfold_wrapper.log_eval_metrics] Accuracy(layer_1 - estimator_0 - 5_folds.train_4.predict)=97.82%\n",
      "[ 2019-04-23 22:06:11,202][kfold_wrapper.log_eval_metrics] Accuracy(layer_1 - estimator_0 - 5_folds.train_cv.predict)=98.36%\n",
      "[ 2019-04-23 22:06:11,441][kfold_wrapper.log_eval_metrics] Accuracy(layer_1 - estimator_1 - 5_folds.train_0.predict)=98.59%\n",
      "[ 2019-04-23 22:06:11,682][kfold_wrapper.log_eval_metrics] Accuracy(layer_1 - estimator_1 - 5_folds.train_1.predict)=98.46%\n",
      "[ 2019-04-23 22:06:11,930][kfold_wrapper.log_eval_metrics] Accuracy(layer_1 - estimator_1 - 5_folds.train_2.predict)=98.08%\n",
      "[ 2019-04-23 22:06:12,168][kfold_wrapper.log_eval_metrics] Accuracy(layer_1 - estimator_1 - 5_folds.train_3.predict)=97.82%\n",
      "[ 2019-04-23 22:06:12,430][kfold_wrapper.log_eval_metrics] Accuracy(layer_1 - estimator_1 - 5_folds.train_4.predict)=98.85%\n",
      "[ 2019-04-23 22:06:12,432][kfold_wrapper.log_eval_metrics] Accuracy(layer_1 - estimator_1 - 5_folds.train_cv.predict)=98.36%\n",
      "[ 2019-04-23 22:06:12,433][cascade_classifier.calc_accuracy] Accuracy(layer_1 - train.classifier_average)=98.44%\n",
      "[ 2019-04-23 22:06:12,648][cascade_classifier.fit_transform] [layer=2] look_indexs=[0], X_cur_train.shape=(3900, 9407), X_cur_test.shape=(0, 9407)\n",
      "[ 2019-04-23 22:06:14,951][kfold_wrapper.log_eval_metrics] Accuracy(layer_2 - estimator_0 - 5_folds.train_0.predict)=98.46%\n",
      "[ 2019-04-23 22:06:17,663][kfold_wrapper.log_eval_metrics] Accuracy(layer_2 - estimator_0 - 5_folds.train_1.predict)=98.59%\n",
      "[ 2019-04-23 22:06:20,807][kfold_wrapper.log_eval_metrics] Accuracy(layer_2 - estimator_0 - 5_folds.train_2.predict)=98.33%\n",
      "[ 2019-04-23 22:06:23,452][kfold_wrapper.log_eval_metrics] Accuracy(layer_2 - estimator_0 - 5_folds.train_3.predict)=98.08%\n",
      "[ 2019-04-23 22:06:26,517][kfold_wrapper.log_eval_metrics] Accuracy(layer_2 - estimator_0 - 5_folds.train_4.predict)=98.46%\n",
      "[ 2019-04-23 22:06:26,519][kfold_wrapper.log_eval_metrics] Accuracy(layer_2 - estimator_0 - 5_folds.train_cv.predict)=98.38%\n",
      "[ 2019-04-23 22:06:26,818][kfold_wrapper.log_eval_metrics] Accuracy(layer_2 - estimator_1 - 5_folds.train_0.predict)=98.08%\n",
      "[ 2019-04-23 22:06:27,091][kfold_wrapper.log_eval_metrics] Accuracy(layer_2 - estimator_1 - 5_folds.train_1.predict)=99.10%\n",
      "[ 2019-04-23 22:06:27,350][kfold_wrapper.log_eval_metrics] Accuracy(layer_2 - estimator_1 - 5_folds.train_2.predict)=98.59%\n",
      "[ 2019-04-23 22:06:27,602][kfold_wrapper.log_eval_metrics] Accuracy(layer_2 - estimator_1 - 5_folds.train_3.predict)=98.85%\n",
      "[ 2019-04-23 22:06:27,926][kfold_wrapper.log_eval_metrics] Accuracy(layer_2 - estimator_1 - 5_folds.train_4.predict)=97.69%\n",
      "[ 2019-04-23 22:06:27,928][kfold_wrapper.log_eval_metrics] Accuracy(layer_2 - estimator_1 - 5_folds.train_cv.predict)=98.46%\n",
      "[ 2019-04-23 22:06:27,929][cascade_classifier.calc_accuracy] Accuracy(layer_2 - train.classifier_average)=98.46%\n",
      "[ 2019-04-23 22:06:28,120][cascade_classifier.fit_transform] [layer=3] look_indexs=[0], X_cur_train.shape=(3900, 9407), X_cur_test.shape=(0, 9407)\n",
      "[ 2019-04-23 22:06:30,550][kfold_wrapper.log_eval_metrics] Accuracy(layer_3 - estimator_0 - 5_folds.train_0.predict)=98.33%\n",
      "[ 2019-04-23 22:06:33,377][kfold_wrapper.log_eval_metrics] Accuracy(layer_3 - estimator_0 - 5_folds.train_1.predict)=98.21%\n",
      "[ 2019-04-23 22:06:36,437][kfold_wrapper.log_eval_metrics] Accuracy(layer_3 - estimator_0 - 5_folds.train_2.predict)=99.10%\n",
      "[ 2019-04-23 22:06:40,795][kfold_wrapper.log_eval_metrics] Accuracy(layer_3 - estimator_0 - 5_folds.train_3.predict)=97.56%\n",
      "[ 2019-04-23 22:06:43,870][kfold_wrapper.log_eval_metrics] Accuracy(layer_3 - estimator_0 - 5_folds.train_4.predict)=98.85%\n",
      "[ 2019-04-23 22:06:43,872][kfold_wrapper.log_eval_metrics] Accuracy(layer_3 - estimator_0 - 5_folds.train_cv.predict)=98.41%\n",
      "[ 2019-04-23 22:06:44,297][kfold_wrapper.log_eval_metrics] Accuracy(layer_3 - estimator_1 - 5_folds.train_0.predict)=98.33%\n",
      "[ 2019-04-23 22:06:44,625][kfold_wrapper.log_eval_metrics] Accuracy(layer_3 - estimator_1 - 5_folds.train_1.predict)=98.21%\n",
      "[ 2019-04-23 22:06:45,250][kfold_wrapper.log_eval_metrics] Accuracy(layer_3 - estimator_1 - 5_folds.train_2.predict)=98.72%\n",
      "[ 2019-04-23 22:06:45,607][kfold_wrapper.log_eval_metrics] Accuracy(layer_3 - estimator_1 - 5_folds.train_3.predict)=98.72%\n",
      "[ 2019-04-23 22:06:45,968][kfold_wrapper.log_eval_metrics] Accuracy(layer_3 - estimator_1 - 5_folds.train_4.predict)=98.46%\n",
      "[ 2019-04-23 22:06:45,972][kfold_wrapper.log_eval_metrics] Accuracy(layer_3 - estimator_1 - 5_folds.train_cv.predict)=98.49%\n",
      "[ 2019-04-23 22:06:45,973][cascade_classifier.calc_accuracy] Accuracy(layer_3 - train.classifier_average)=98.51%\n",
      "[ 2019-04-23 22:06:46,231][cascade_classifier.fit_transform] [layer=4] look_indexs=[0], X_cur_train.shape=(3900, 9407), X_cur_test.shape=(0, 9407)\n",
      "[ 2019-04-23 22:06:49,152][kfold_wrapper.log_eval_metrics] Accuracy(layer_4 - estimator_0 - 5_folds.train_0.predict)=98.85%\n",
      "[ 2019-04-23 22:06:52,179][kfold_wrapper.log_eval_metrics] Accuracy(layer_4 - estimator_0 - 5_folds.train_1.predict)=98.46%\n",
      "[ 2019-04-23 22:06:55,443][kfold_wrapper.log_eval_metrics] Accuracy(layer_4 - estimator_0 - 5_folds.train_2.predict)=98.85%\n",
      "[ 2019-04-23 22:06:58,325][kfold_wrapper.log_eval_metrics] Accuracy(layer_4 - estimator_0 - 5_folds.train_3.predict)=97.95%\n",
      "[ 2019-04-23 22:07:01,003][kfold_wrapper.log_eval_metrics] Accuracy(layer_4 - estimator_0 - 5_folds.train_4.predict)=98.08%\n"
     ]
    },
    {
     "name": "stderr",
     "output_type": "stream",
     "text": [
      "[ 2019-04-23 22:07:01,004][kfold_wrapper.log_eval_metrics] Accuracy(layer_4 - estimator_0 - 5_folds.train_cv.predict)=98.44%\n",
      "[ 2019-04-23 22:07:01,228][kfold_wrapper.log_eval_metrics] Accuracy(layer_4 - estimator_1 - 5_folds.train_0.predict)=97.31%\n",
      "[ 2019-04-23 22:07:01,452][kfold_wrapper.log_eval_metrics] Accuracy(layer_4 - estimator_1 - 5_folds.train_1.predict)=98.72%\n",
      "[ 2019-04-23 22:07:01,774][kfold_wrapper.log_eval_metrics] Accuracy(layer_4 - estimator_1 - 5_folds.train_2.predict)=98.97%\n",
      "[ 2019-04-23 22:07:02,006][kfold_wrapper.log_eval_metrics] Accuracy(layer_4 - estimator_1 - 5_folds.train_3.predict)=98.97%\n",
      "[ 2019-04-23 22:07:02,235][kfold_wrapper.log_eval_metrics] Accuracy(layer_4 - estimator_1 - 5_folds.train_4.predict)=98.46%\n",
      "[ 2019-04-23 22:07:02,236][kfold_wrapper.log_eval_metrics] Accuracy(layer_4 - estimator_1 - 5_folds.train_cv.predict)=98.49%\n",
      "[ 2019-04-23 22:07:02,237][cascade_classifier.calc_accuracy] Accuracy(layer_4 - train.classifier_average)=98.49%\n",
      "[ 2019-04-23 22:07:02,428][cascade_classifier.fit_transform] [layer=5] look_indexs=[0], X_cur_train.shape=(3900, 9407), X_cur_test.shape=(0, 9407)\n",
      "[ 2019-04-23 22:07:05,651][kfold_wrapper.log_eval_metrics] Accuracy(layer_5 - estimator_0 - 5_folds.train_0.predict)=98.59%\n",
      "[ 2019-04-23 22:07:08,054][kfold_wrapper.log_eval_metrics] Accuracy(layer_5 - estimator_0 - 5_folds.train_1.predict)=98.46%\n",
      "[ 2019-04-23 22:07:10,155][kfold_wrapper.log_eval_metrics] Accuracy(layer_5 - estimator_0 - 5_folds.train_2.predict)=97.95%\n",
      "[ 2019-04-23 22:07:12,466][kfold_wrapper.log_eval_metrics] Accuracy(layer_5 - estimator_0 - 5_folds.train_3.predict)=98.72%\n",
      "[ 2019-04-23 22:07:14,474][kfold_wrapper.log_eval_metrics] Accuracy(layer_5 - estimator_0 - 5_folds.train_4.predict)=98.33%\n",
      "[ 2019-04-23 22:07:14,475][kfold_wrapper.log_eval_metrics] Accuracy(layer_5 - estimator_0 - 5_folds.train_cv.predict)=98.41%\n",
      "[ 2019-04-23 22:07:14,686][kfold_wrapper.log_eval_metrics] Accuracy(layer_5 - estimator_1 - 5_folds.train_0.predict)=98.59%\n",
      "[ 2019-04-23 22:07:14,902][kfold_wrapper.log_eval_metrics] Accuracy(layer_5 - estimator_1 - 5_folds.train_1.predict)=98.46%\n",
      "[ 2019-04-23 22:07:15,121][kfold_wrapper.log_eval_metrics] Accuracy(layer_5 - estimator_1 - 5_folds.train_2.predict)=98.85%\n",
      "[ 2019-04-23 22:07:15,341][kfold_wrapper.log_eval_metrics] Accuracy(layer_5 - estimator_1 - 5_folds.train_3.predict)=98.46%\n",
      "[ 2019-04-23 22:07:15,559][kfold_wrapper.log_eval_metrics] Accuracy(layer_5 - estimator_1 - 5_folds.train_4.predict)=98.21%\n",
      "[ 2019-04-23 22:07:15,560][kfold_wrapper.log_eval_metrics] Accuracy(layer_5 - estimator_1 - 5_folds.train_cv.predict)=98.51%\n",
      "[ 2019-04-23 22:07:15,562][cascade_classifier.calc_accuracy] Accuracy(layer_5 - train.classifier_average)=98.49%\n",
      "[ 2019-04-23 22:07:15,730][cascade_classifier.fit_transform] [layer=6] look_indexs=[0], X_cur_train.shape=(3900, 9407), X_cur_test.shape=(0, 9407)\n",
      "[ 2019-04-23 22:07:17,632][kfold_wrapper.log_eval_metrics] Accuracy(layer_6 - estimator_0 - 5_folds.train_0.predict)=98.59%\n",
      "[ 2019-04-23 22:07:19,627][kfold_wrapper.log_eval_metrics] Accuracy(layer_6 - estimator_0 - 5_folds.train_1.predict)=98.08%\n",
      "[ 2019-04-23 22:07:21,705][kfold_wrapper.log_eval_metrics] Accuracy(layer_6 - estimator_0 - 5_folds.train_2.predict)=98.46%\n",
      "[ 2019-04-23 22:07:24,003][kfold_wrapper.log_eval_metrics] Accuracy(layer_6 - estimator_0 - 5_folds.train_3.predict)=98.46%\n",
      "[ 2019-04-23 22:07:26,307][kfold_wrapper.log_eval_metrics] Accuracy(layer_6 - estimator_0 - 5_folds.train_4.predict)=98.72%\n",
      "[ 2019-04-23 22:07:26,309][kfold_wrapper.log_eval_metrics] Accuracy(layer_6 - estimator_0 - 5_folds.train_cv.predict)=98.46%\n",
      "[ 2019-04-23 22:07:26,529][kfold_wrapper.log_eval_metrics] Accuracy(layer_6 - estimator_1 - 5_folds.train_0.predict)=98.46%\n",
      "[ 2019-04-23 22:07:26,743][kfold_wrapper.log_eval_metrics] Accuracy(layer_6 - estimator_1 - 5_folds.train_1.predict)=98.85%\n",
      "[ 2019-04-23 22:07:26,960][kfold_wrapper.log_eval_metrics] Accuracy(layer_6 - estimator_1 - 5_folds.train_2.predict)=98.46%\n",
      "[ 2019-04-23 22:07:27,176][kfold_wrapper.log_eval_metrics] Accuracy(layer_6 - estimator_1 - 5_folds.train_3.predict)=98.46%\n",
      "[ 2019-04-23 22:07:27,393][kfold_wrapper.log_eval_metrics] Accuracy(layer_6 - estimator_1 - 5_folds.train_4.predict)=98.33%\n",
      "[ 2019-04-23 22:07:27,394][kfold_wrapper.log_eval_metrics] Accuracy(layer_6 - estimator_1 - 5_folds.train_cv.predict)=98.51%\n",
      "[ 2019-04-23 22:07:27,395][cascade_classifier.calc_accuracy] Accuracy(layer_6 - train.classifier_average)=98.51%\n",
      "[ 2019-04-23 22:07:27,396][cascade_classifier.fit_transform] [Result][Optimal Level Detected] opt_layer_num=4, accuracy_train=98.51%, accuracy_test=0.00%\n"
     ]
    }
   ],
   "source": [
    "config = get_toy_config()\n",
    "gc = GCForest(config)\n",
    "\n",
    "# features_train 为 ndarray，labels_train 维度为 (n_samples, )，而不是(n_samples, 1)\n",
    "features_train = features_train.toarray()\n",
    "labels_train = labels_train.reshape(-1)\n",
    "\n",
    "since = time.time()\n",
    "gc.fit_transform(features_train, labels_train)\n",
    "\n",
    "time_elapsed = time.time() - since\n",
    "\n",
    "# gc.fit_transform(features_train, labels_train, features_test, labels_test)"
   ]
  },
  {
   "cell_type": "code",
   "execution_count": 46,
   "metadata": {},
   "outputs": [
    {
     "name": "stdout",
     "output_type": "stream",
     "text": [
      "Training complete in 1m 54.8653s\n"
     ]
    }
   ],
   "source": [
    "print('Training complete in {:.0f}m {:.4f}s'.format(\n",
    "        time_elapsed // 60, time_elapsed % 60)) "
   ]
  },
  {
   "cell_type": "code",
   "execution_count": 47,
   "metadata": {},
   "outputs": [
    {
     "name": "stderr",
     "output_type": "stream",
     "text": [
      "[ 2019-04-23 22:07:27,479][cascade_classifier.transform] X_groups_test.shape=[(1672, 9403)]\n",
      "[ 2019-04-23 22:07:27,578][cascade_classifier.transform] group_dims=[9403]\n",
      "[ 2019-04-23 22:07:27,579][cascade_classifier.transform] X_test.shape=(1672, 9403)\n",
      "[ 2019-04-23 22:07:27,642][cascade_classifier.transform] [layer=0] look_indexs=[0], X_cur_test.shape=(1672, 9403)\n",
      "[ 2019-04-23 22:07:28,498][cascade_classifier.transform] [layer=1] look_indexs=[0], X_cur_test.shape=(1672, 9407)\n",
      "[ 2019-04-23 22:07:29,283][cascade_classifier.transform] [layer=2] look_indexs=[0], X_cur_test.shape=(1672, 9407)\n",
      "[ 2019-04-23 22:07:30,073][cascade_classifier.transform] [layer=3] look_indexs=[0], X_cur_test.shape=(1672, 9407)\n"
     ]
    }
   ],
   "source": [
    "pred = predict_labels(gc,features_test.toarray())\n",
    "pred_scores.append((\"DCF\", [precision_score(labels_test,pred), recall_score(labels_test,pred), accuracy_score(labels_test,pred), f1_score(labels_test,pred), '{:.0f}m {:.4f}s'.format(time_elapsed // 60, time_elapsed % 60)]))"
   ]
  },
  {
   "cell_type": "code",
   "execution_count": 48,
   "metadata": {},
   "outputs": [
    {
     "data": {
      "text/html": [
       "<div>\n",
       "<style scoped>\n",
       "    .dataframe tbody tr th:only-of-type {\n",
       "        vertical-align: middle;\n",
       "    }\n",
       "\n",
       "    .dataframe tbody tr th {\n",
       "        vertical-align: top;\n",
       "    }\n",
       "\n",
       "    .dataframe thead th {\n",
       "        text-align: right;\n",
       "    }\n",
       "</style>\n",
       "<table border=\"1\" class=\"dataframe\">\n",
       "  <thead>\n",
       "    <tr style=\"text-align: right;\">\n",
       "      <th></th>\n",
       "      <th>Precision</th>\n",
       "      <th>Recall</th>\n",
       "      <th>Accuracy</th>\n",
       "      <th>F1</th>\n",
       "      <th>Training Time (s)</th>\n",
       "    </tr>\n",
       "  </thead>\n",
       "  <tbody>\n",
       "    <tr>\n",
       "      <th>SVC</th>\n",
       "      <td>0.980198</td>\n",
       "      <td>0.853448</td>\n",
       "      <td>0.977273</td>\n",
       "      <td>0.912442</td>\n",
       "      <td>0m 0.3706s</td>\n",
       "    </tr>\n",
       "    <tr>\n",
       "      <th>KN</th>\n",
       "      <td>0.990826</td>\n",
       "      <td>0.465517</td>\n",
       "      <td>0.925239</td>\n",
       "      <td>0.633431</td>\n",
       "      <td>0m 0.0014s</td>\n",
       "    </tr>\n",
       "    <tr>\n",
       "      <th>NB</th>\n",
       "      <td>0.951965</td>\n",
       "      <td>0.939655</td>\n",
       "      <td>0.985048</td>\n",
       "      <td>0.945770</td>\n",
       "      <td>0m 0.0017s</td>\n",
       "    </tr>\n",
       "    <tr>\n",
       "      <th>DT</th>\n",
       "      <td>0.866972</td>\n",
       "      <td>0.814655</td>\n",
       "      <td>0.956938</td>\n",
       "      <td>0.840000</td>\n",
       "      <td>0m 0.1950s</td>\n",
       "    </tr>\n",
       "    <tr>\n",
       "      <th>LR</th>\n",
       "      <td>0.900621</td>\n",
       "      <td>0.625000</td>\n",
       "      <td>0.938397</td>\n",
       "      <td>0.737913</td>\n",
       "      <td>0m 0.0085s</td>\n",
       "    </tr>\n",
       "    <tr>\n",
       "      <th>RF</th>\n",
       "      <td>1.000000</td>\n",
       "      <td>0.827586</td>\n",
       "      <td>0.976077</td>\n",
       "      <td>0.905660</td>\n",
       "      <td>0m 1.2973s</td>\n",
       "    </tr>\n",
       "    <tr>\n",
       "      <th>AdaBoost</th>\n",
       "      <td>0.967213</td>\n",
       "      <td>0.762931</td>\n",
       "      <td>0.963517</td>\n",
       "      <td>0.853012</td>\n",
       "      <td>0m 2.5404s</td>\n",
       "    </tr>\n",
       "    <tr>\n",
       "      <th>BgC</th>\n",
       "      <td>0.910798</td>\n",
       "      <td>0.836207</td>\n",
       "      <td>0.965909</td>\n",
       "      <td>0.871910</td>\n",
       "      <td>0m 1.0032s</td>\n",
       "    </tr>\n",
       "    <tr>\n",
       "      <th>ETC</th>\n",
       "      <td>1.000000</td>\n",
       "      <td>0.788793</td>\n",
       "      <td>0.970694</td>\n",
       "      <td>0.881928</td>\n",
       "      <td>0m 0.9153s</td>\n",
       "    </tr>\n",
       "    <tr>\n",
       "      <th>LSTM</th>\n",
       "      <td>1.000000</td>\n",
       "      <td>0.781250</td>\n",
       "      <td>0.970694</td>\n",
       "      <td>0.877193</td>\n",
       "      <td>0m 22.1877s</td>\n",
       "    </tr>\n",
       "    <tr>\n",
       "      <th>DCF</th>\n",
       "      <td>0.986301</td>\n",
       "      <td>0.931034</td>\n",
       "      <td>0.988636</td>\n",
       "      <td>0.957871</td>\n",
       "      <td>1m 54.8653s</td>\n",
       "    </tr>\n",
       "  </tbody>\n",
       "</table>\n",
       "</div>"
      ],
      "text/plain": [
       "          Precision    Recall  Accuracy        F1 Training Time (s)\n",
       "SVC        0.980198  0.853448  0.977273  0.912442        0m 0.3706s\n",
       "KN         0.990826  0.465517  0.925239  0.633431        0m 0.0014s\n",
       "NB         0.951965  0.939655  0.985048  0.945770        0m 0.0017s\n",
       "DT         0.866972  0.814655  0.956938  0.840000        0m 0.1950s\n",
       "LR         0.900621  0.625000  0.938397  0.737913        0m 0.0085s\n",
       "RF         1.000000  0.827586  0.976077  0.905660        0m 1.2973s\n",
       "AdaBoost   0.967213  0.762931  0.963517  0.853012        0m 2.5404s\n",
       "BgC        0.910798  0.836207  0.965909  0.871910        0m 1.0032s\n",
       "ETC        1.000000  0.788793  0.970694  0.881928        0m 0.9153s\n",
       "LSTM       1.000000  0.781250  0.970694  0.877193       0m 22.1877s\n",
       "DCF        0.986301  0.931034  0.988636  0.957871       1m 54.8653s"
      ]
     },
     "execution_count": 48,
     "metadata": {},
     "output_type": "execute_result"
    }
   ],
   "source": [
    "df = pd.DataFrame.from_items(pred_scores,orient='index', columns=['Precision', 'Recall', 'Accuracy', 'F1', 'Training Time (s)'])\n",
    "df"
   ]
  },
  {
   "cell_type": "code",
   "execution_count": 49,
   "metadata": {},
   "outputs": [
    {
     "data": {
      "image/png": "[encoded data removed]",
      "text/plain": [
       "<Figure size 792x432 with 1 Axes>"
      ]
     },
     "metadata": {},
     "output_type": "display_data"
    }
   ],
   "source": [
    "df.plot(kind='bar', y=\"Accuracy\", ylim=(0.9,1.0), figsize=(11,6), align='center', colormap=\"Accent\")\n",
    "plt.xticks(np.arange(11), df.index)\n",
    "plt.ylabel('Accuracy Score')\n",
    "plt.title('Distribution by Classifier')\n",
    "plt.legend(bbox_to_anchor=(1.05, 1), loc=2, borderaxespad=0.)\n",
    "plt.savefig(\"../img/sms-acc-v3-stop.eps\")\n",
    "plt.show()"
   ]
  },
  {
   "cell_type": "code",
   "execution_count": 50,
   "metadata": {
    "collapsed": true
   },
   "outputs": [],
   "source": [
    "import pickle\n",
    "# dump\n",
    "with open(\"../pkl/sms-gc-v3-stop.pkl\", \"wb\") as f:\n",
    "    pickle.dump(gc, f, pickle.HIGHEST_PROTOCOL)\n",
    "    \n",
    "# # load\n",
    "# with open(\"../pkl/2018_gc.pkl\", \"rb\") as f:\n",
    "#     gc = pickle.load(f)"
   ]
  },
  {
   "cell_type": "markdown",
   "metadata": {
    "_cell_guid": "0437b30e-96a9-2ef5-44f8-7dc6b94ed8a6"
   },
   "source": [
    "### Final verdict - gcForest is your friend in spam detection."
   ]
  },
  {
   "cell_type": "code",
   "execution_count": null,
   "metadata": {
    "collapsed": true
   },
   "outputs": [],
   "source": []
  }
 ],
 "metadata": {
  "_change_revision": 260,
  "_is_fork": false,
  "kernelspec": {
   "display_name": "Python [default]",
   "language": "python",
   "name": "python3"
  },
  "language_info": {
   "codemirror_mode": {
    "name": "ipython",
    "version": 3
   },
   "file_extension": ".py",
   "mimetype": "text/x-python",
   "name": "python",
   "nbconvert_exporter": "python",
   "pygments_lexer": "ipython3",
   "version": "3.6.2"
  }
 },
 "nbformat": 4,
 "nbformat_minor": 1
}
