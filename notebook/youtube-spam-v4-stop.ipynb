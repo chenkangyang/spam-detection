{
 "cells": [
  {
   "cell_type": "markdown",
   "metadata": {},
   "source": [
    "V4: \n",
    "+ Delete the stop words\n",
    "+ LSTM uses the Tokenizert.fit_on_texts(data) then Tokenizert.texts_to_sequences(data) to do the preprocessing\n",
    "+ Other models uses the CountVectorizer to do the the preprocessing\n",
    "    "
   ]
  },
  {
   "cell_type": "code",
   "execution_count": 1,
   "metadata": {
    "collapsed": true
   },
   "outputs": [],
   "source": [
    "import numpy as np\n",
    "import pandas as pd\n",
    "import matplotlib as mpl\n",
    "import matplotlib.pyplot as plt\n",
    "import seaborn as sns\n",
    "import string\n",
    "from sklearn.feature_extraction.text import CountVectorizer\n",
    "# from sklearn.feature_extraction.text import TfidfVectorizer\n",
    "from sklearn.model_selection import train_test_split\n",
    "from nltk.corpus import stopwords\n",
    "from sklearn.preprocessing import LabelEncoder\n",
    "%matplotlib inline"
   ]
  },
  {
   "cell_type": "code",
   "execution_count": 2,
   "metadata": {
    "collapsed": true
   },
   "outputs": [],
   "source": [
    "# Dataset from https://archive.ics.uci.edu/ml/datasets/YouTube+Spam+Collection#\n",
    "df1 = pd.read_csv(\"../data/UCI-YouTube-Spam-Collection/Youtube01-Psy.csv\")"
   ]
  },
  {
   "cell_type": "code",
   "execution_count": 3,
   "metadata": {},
   "outputs": [
    {
     "data": {
      "text/html": [
       "<div>\n",
       "<style scoped>\n",
       "    .dataframe tbody tr th:only-of-type {\n",
       "        vertical-align: middle;\n",
       "    }\n",
       "\n",
       "    .dataframe tbody tr th {\n",
       "        vertical-align: top;\n",
       "    }\n",
       "\n",
       "    .dataframe thead th {\n",
       "        text-align: right;\n",
       "    }\n",
       "</style>\n",
       "<table border=\"1\" class=\"dataframe\">\n",
       "  <thead>\n",
       "    <tr style=\"text-align: right;\">\n",
       "      <th></th>\n",
       "      <th>COMMENT_ID</th>\n",
       "      <th>AUTHOR</th>\n",
       "      <th>DATE</th>\n",
       "      <th>CONTENT</th>\n",
       "      <th>CLASS</th>\n",
       "    </tr>\n",
       "  </thead>\n",
       "  <tbody>\n",
       "    <tr>\n",
       "      <th>0</th>\n",
       "      <td>LZQPQhLyRh80UYxNuaDWhIGQYNQ96IuCg-AYWqNPjpU</td>\n",
       "      <td>Julius NM</td>\n",
       "      <td>2013-11-07T06:20:48</td>\n",
       "      <td>Huh, anyway check out this you[tube] channel: ...</td>\n",
       "      <td>1</td>\n",
       "    </tr>\n",
       "    <tr>\n",
       "      <th>1</th>\n",
       "      <td>LZQPQhLyRh_C2cTtd9MvFRJedxydaVW-2sNg5Diuo4A</td>\n",
       "      <td>adam riyati</td>\n",
       "      <td>2013-11-07T12:37:15</td>\n",
       "      <td>Hey guys check out my new channel and our firs...</td>\n",
       "      <td>1</td>\n",
       "    </tr>\n",
       "    <tr>\n",
       "      <th>2</th>\n",
       "      <td>LZQPQhLyRh9MSZYnf8djyk0gEF9BHDPYrrK-qCczIY8</td>\n",
       "      <td>Evgeny Murashkin</td>\n",
       "      <td>2013-11-08T17:34:21</td>\n",
       "      <td>just for test I have to say murdev.com</td>\n",
       "      <td>1</td>\n",
       "    </tr>\n",
       "    <tr>\n",
       "      <th>3</th>\n",
       "      <td>z13jhp0bxqncu512g22wvzkasxmvvzjaz04</td>\n",
       "      <td>ElNino Melendez</td>\n",
       "      <td>2013-11-09T08:28:43</td>\n",
       "      <td>me shaking my sexy ass on my channel enjoy ^_^ ﻿</td>\n",
       "      <td>1</td>\n",
       "    </tr>\n",
       "    <tr>\n",
       "      <th>4</th>\n",
       "      <td>z13fwbwp1oujthgqj04chlngpvzmtt3r3dw</td>\n",
       "      <td>GsMega</td>\n",
       "      <td>2013-11-10T16:05:38</td>\n",
       "      <td>watch?v=vtaRGgvGtWQ   Check this out .﻿</td>\n",
       "      <td>1</td>\n",
       "    </tr>\n",
       "  </tbody>\n",
       "</table>\n",
       "</div>"
      ],
      "text/plain": [
       "                                    COMMENT_ID            AUTHOR  \\\n",
       "0  LZQPQhLyRh80UYxNuaDWhIGQYNQ96IuCg-AYWqNPjpU         Julius NM   \n",
       "1  LZQPQhLyRh_C2cTtd9MvFRJedxydaVW-2sNg5Diuo4A       adam riyati   \n",
       "2  LZQPQhLyRh9MSZYnf8djyk0gEF9BHDPYrrK-qCczIY8  Evgeny Murashkin   \n",
       "3          z13jhp0bxqncu512g22wvzkasxmvvzjaz04   ElNino Melendez   \n",
       "4          z13fwbwp1oujthgqj04chlngpvzmtt3r3dw            GsMega   \n",
       "\n",
       "                  DATE                                            CONTENT  \\\n",
       "0  2013-11-07T06:20:48  Huh, anyway check out this you[tube] channel: ...   \n",
       "1  2013-11-07T12:37:15  Hey guys check out my new channel and our firs...   \n",
       "2  2013-11-08T17:34:21             just for test I have to say murdev.com   \n",
       "3  2013-11-09T08:28:43   me shaking my sexy ass on my channel enjoy ^_^ ﻿   \n",
       "4  2013-11-10T16:05:38            watch?v=vtaRGgvGtWQ   Check this out .﻿   \n",
       "\n",
       "   CLASS  \n",
       "0      1  \n",
       "1      1  \n",
       "2      1  \n",
       "3      1  \n",
       "4      1  "
      ]
     },
     "execution_count": 3,
     "metadata": {},
     "output_type": "execute_result"
    }
   ],
   "source": [
    "df1.head()"
   ]
  },
  {
   "cell_type": "code",
   "execution_count": 4,
   "metadata": {
    "collapsed": true
   },
   "outputs": [],
   "source": [
    "# Load all our dataset to merge them\n",
    "df2 = pd.read_csv(\"../data/UCI-YouTube-Spam-Collection/Youtube02-KatyPerry.csv\")\n",
    "df3 = pd.read_csv(\"../data/UCI-YouTube-Spam-Collection/Youtube03-LMFAO.csv\")\n",
    "df4 = pd.read_csv(\"../data/UCI-YouTube-Spam-Collection/Youtube04-Eminem.csv\")\n",
    "df5 = pd.read_csv(\"../data/UCI-YouTube-Spam-Collection/Youtube05-Shakira.csv\")"
   ]
  },
  {
   "cell_type": "code",
   "execution_count": 5,
   "metadata": {
    "collapsed": true
   },
   "outputs": [],
   "source": [
    "frames = [df1,df2,df3,df4,df5]"
   ]
  },
  {
   "cell_type": "code",
   "execution_count": 6,
   "metadata": {
    "collapsed": true
   },
   "outputs": [],
   "source": [
    "# Merging or Concatenating our DF\n",
    "df_merged = pd.concat(frames)"
   ]
  },
  {
   "cell_type": "code",
   "execution_count": 7,
   "metadata": {},
   "outputs": [
    {
     "data": {
      "text/html": [
       "<div>\n",
       "<style scoped>\n",
       "    .dataframe tbody tr th:only-of-type {\n",
       "        vertical-align: middle;\n",
       "    }\n",
       "\n",
       "    .dataframe tbody tr th {\n",
       "        vertical-align: top;\n",
       "    }\n",
       "\n",
       "    .dataframe thead th {\n",
       "        text-align: right;\n",
       "    }\n",
       "</style>\n",
       "<table border=\"1\" class=\"dataframe\">\n",
       "  <thead>\n",
       "    <tr style=\"text-align: right;\">\n",
       "      <th></th>\n",
       "      <th>COMMENT_ID</th>\n",
       "      <th>AUTHOR</th>\n",
       "      <th>DATE</th>\n",
       "      <th>CONTENT</th>\n",
       "      <th>CLASS</th>\n",
       "    </tr>\n",
       "  </thead>\n",
       "  <tbody>\n",
       "    <tr>\n",
       "      <th>0</th>\n",
       "      <td>LZQPQhLyRh80UYxNuaDWhIGQYNQ96IuCg-AYWqNPjpU</td>\n",
       "      <td>Julius NM</td>\n",
       "      <td>2013-11-07T06:20:48</td>\n",
       "      <td>Huh, anyway check out this you[tube] channel: ...</td>\n",
       "      <td>1</td>\n",
       "    </tr>\n",
       "    <tr>\n",
       "      <th>1</th>\n",
       "      <td>LZQPQhLyRh_C2cTtd9MvFRJedxydaVW-2sNg5Diuo4A</td>\n",
       "      <td>adam riyati</td>\n",
       "      <td>2013-11-07T12:37:15</td>\n",
       "      <td>Hey guys check out my new channel and our firs...</td>\n",
       "      <td>1</td>\n",
       "    </tr>\n",
       "    <tr>\n",
       "      <th>2</th>\n",
       "      <td>LZQPQhLyRh9MSZYnf8djyk0gEF9BHDPYrrK-qCczIY8</td>\n",
       "      <td>Evgeny Murashkin</td>\n",
       "      <td>2013-11-08T17:34:21</td>\n",
       "      <td>just for test I have to say murdev.com</td>\n",
       "      <td>1</td>\n",
       "    </tr>\n",
       "    <tr>\n",
       "      <th>3</th>\n",
       "      <td>z13jhp0bxqncu512g22wvzkasxmvvzjaz04</td>\n",
       "      <td>ElNino Melendez</td>\n",
       "      <td>2013-11-09T08:28:43</td>\n",
       "      <td>me shaking my sexy ass on my channel enjoy ^_^ ﻿</td>\n",
       "      <td>1</td>\n",
       "    </tr>\n",
       "    <tr>\n",
       "      <th>4</th>\n",
       "      <td>z13fwbwp1oujthgqj04chlngpvzmtt3r3dw</td>\n",
       "      <td>GsMega</td>\n",
       "      <td>2013-11-10T16:05:38</td>\n",
       "      <td>watch?v=vtaRGgvGtWQ   Check this out .﻿</td>\n",
       "      <td>1</td>\n",
       "    </tr>\n",
       "  </tbody>\n",
       "</table>\n",
       "</div>"
      ],
      "text/plain": [
       "                                    COMMENT_ID            AUTHOR  \\\n",
       "0  LZQPQhLyRh80UYxNuaDWhIGQYNQ96IuCg-AYWqNPjpU         Julius NM   \n",
       "1  LZQPQhLyRh_C2cTtd9MvFRJedxydaVW-2sNg5Diuo4A       adam riyati   \n",
       "2  LZQPQhLyRh9MSZYnf8djyk0gEF9BHDPYrrK-qCczIY8  Evgeny Murashkin   \n",
       "3          z13jhp0bxqncu512g22wvzkasxmvvzjaz04   ElNino Melendez   \n",
       "4          z13fwbwp1oujthgqj04chlngpvzmtt3r3dw            GsMega   \n",
       "\n",
       "                  DATE                                            CONTENT  \\\n",
       "0  2013-11-07T06:20:48  Huh, anyway check out this you[tube] channel: ...   \n",
       "1  2013-11-07T12:37:15  Hey guys check out my new channel and our firs...   \n",
       "2  2013-11-08T17:34:21             just for test I have to say murdev.com   \n",
       "3  2013-11-09T08:28:43   me shaking my sexy ass on my channel enjoy ^_^ ﻿   \n",
       "4  2013-11-10T16:05:38            watch?v=vtaRGgvGtWQ   Check this out .﻿   \n",
       "\n",
       "   CLASS  \n",
       "0      1  \n",
       "1      1  \n",
       "2      1  \n",
       "3      1  \n",
       "4      1  "
      ]
     },
     "execution_count": 7,
     "metadata": {},
     "output_type": "execute_result"
    }
   ],
   "source": [
    "df_merged.head()"
   ]
  },
  {
   "cell_type": "code",
   "execution_count": 8,
   "metadata": {},
   "outputs": [
    {
     "data": {
      "text/plain": [
       "(1956, 5)"
      ]
     },
     "execution_count": 8,
     "metadata": {},
     "output_type": "execute_result"
    }
   ],
   "source": [
    "# Total Size\n",
    "df_merged.shape"
   ]
  },
  {
   "cell_type": "markdown",
   "metadata": {},
   "source": [
    "Now let's create new feature \"message length\" and plot it to see if it's of any interest"
   ]
  },
  {
   "cell_type": "code",
   "execution_count": 9,
   "metadata": {
    "collapsed": true
   },
   "outputs": [],
   "source": [
    "# Save and Write Merged Data to csv\n",
    "df_merged.to_csv(\"../data/youtube-spam-merged.csv\")"
   ]
  },
  {
   "cell_type": "code",
   "execution_count": 10,
   "metadata": {
    "collapsed": true
   },
   "outputs": [],
   "source": [
    "df = df_merged"
   ]
  },
  {
   "cell_type": "markdown",
   "metadata": {},
   "source": [
    "#### Data Cleaning"
   ]
  },
  {
   "cell_type": "code",
   "execution_count": 11,
   "metadata": {},
   "outputs": [
    {
     "data": {
      "text/plain": [
       "Index(['COMMENT_ID', 'AUTHOR', 'DATE', 'CONTENT', 'CLASS'], dtype='object')"
      ]
     },
     "execution_count": 11,
     "metadata": {},
     "output_type": "execute_result"
    }
   ],
   "source": [
    "# Checking for Consistent Column Name\n",
    "df.columns"
   ]
  },
  {
   "cell_type": "code",
   "execution_count": 12,
   "metadata": {},
   "outputs": [
    {
     "data": {
      "text/plain": [
       "COMMENT_ID    object\n",
       "AUTHOR        object\n",
       "DATE          object\n",
       "CONTENT       object\n",
       "CLASS          int64\n",
       "dtype: object"
      ]
     },
     "execution_count": 12,
     "metadata": {},
     "output_type": "execute_result"
    }
   ],
   "source": [
    "# Checking for Datatypes\n",
    "df.dtypes"
   ]
  },
  {
   "cell_type": "code",
   "execution_count": 13,
   "metadata": {},
   "outputs": [
    {
     "data": {
      "text/plain": [
       "COMMENT_ID    0\n",
       "AUTHOR        0\n",
       "DATE          0\n",
       "CONTENT       0\n",
       "CLASS         0\n",
       "dtype: int64"
      ]
     },
     "execution_count": 13,
     "metadata": {},
     "output_type": "execute_result"
    }
   ],
   "source": [
    "# Check for missing nan\n",
    "df.isnull().isnull().sum()"
   ]
  },
  {
   "cell_type": "markdown",
   "metadata": {},
   "source": [
    "Now drop \"COMMENT_ID\", 'AUTHOR', 'DATE', columns and rename CLASS and CONTENT to \"label\" and \"content\""
   ]
  },
  {
   "cell_type": "code",
   "execution_count": 14,
   "metadata": {
    "collapsed": true
   },
   "outputs": [],
   "source": [
    "ytb = df[[\"CONTENT\",\"CLASS\"]]\n",
    "ytb = df.rename(columns = {'CONTENT':'content','CLASS':'label'})"
   ]
  },
  {
   "cell_type": "markdown",
   "metadata": {},
   "source": [
    "Let's look into our data"
   ]
  },
  {
   "cell_type": "code",
   "execution_count": 15,
   "metadata": {},
   "outputs": [
    {
     "data": {
      "text/html": [
       "<div>\n",
       "<style scoped>\n",
       "    .dataframe tbody tr th:only-of-type {\n",
       "        vertical-align: middle;\n",
       "    }\n",
       "\n",
       "    .dataframe tbody tr th {\n",
       "        vertical-align: top;\n",
       "    }\n",
       "\n",
       "    .dataframe thead tr th {\n",
       "        text-align: left;\n",
       "    }\n",
       "\n",
       "    .dataframe thead tr:last-of-type th {\n",
       "        text-align: right;\n",
       "    }\n",
       "</style>\n",
       "<table border=\"1\" class=\"dataframe\">\n",
       "  <thead>\n",
       "    <tr>\n",
       "      <th></th>\n",
       "      <th colspan=\"4\" halign=\"left\">AUTHOR</th>\n",
       "      <th colspan=\"4\" halign=\"left\">COMMENT_ID</th>\n",
       "      <th colspan=\"4\" halign=\"left\">DATE</th>\n",
       "      <th colspan=\"4\" halign=\"left\">content</th>\n",
       "    </tr>\n",
       "    <tr>\n",
       "      <th></th>\n",
       "      <th>count</th>\n",
       "      <th>unique</th>\n",
       "      <th>top</th>\n",
       "      <th>freq</th>\n",
       "      <th>count</th>\n",
       "      <th>unique</th>\n",
       "      <th>top</th>\n",
       "      <th>freq</th>\n",
       "      <th>count</th>\n",
       "      <th>unique</th>\n",
       "      <th>top</th>\n",
       "      <th>freq</th>\n",
       "      <th>count</th>\n",
       "      <th>unique</th>\n",
       "      <th>top</th>\n",
       "      <th>freq</th>\n",
       "    </tr>\n",
       "    <tr>\n",
       "      <th>label</th>\n",
       "      <th></th>\n",
       "      <th></th>\n",
       "      <th></th>\n",
       "      <th></th>\n",
       "      <th></th>\n",
       "      <th></th>\n",
       "      <th></th>\n",
       "      <th></th>\n",
       "      <th></th>\n",
       "      <th></th>\n",
       "      <th></th>\n",
       "      <th></th>\n",
       "      <th></th>\n",
       "      <th></th>\n",
       "      <th></th>\n",
       "      <th></th>\n",
       "    </tr>\n",
       "  </thead>\n",
       "  <tbody>\n",
       "    <tr>\n",
       "      <th>0</th>\n",
       "      <td>951</td>\n",
       "      <td>922</td>\n",
       "      <td>5000palo</td>\n",
       "      <td>7</td>\n",
       "      <td>951</td>\n",
       "      <td>950</td>\n",
       "      <td>_2viQ_Qnc68fX3dYsfYuM-m4ELMJvxOQBmBOFHqGOk0</td>\n",
       "      <td>2</td>\n",
       "      <td>951</td>\n",
       "      <td>950</td>\n",
       "      <td>2013-10-05T00:57:25.078000</td>\n",
       "      <td>2</td>\n",
       "      <td>951</td>\n",
       "      <td>919</td>\n",
       "      <td>wow</td>\n",
       "      <td>4</td>\n",
       "    </tr>\n",
       "    <tr>\n",
       "      <th>1</th>\n",
       "      <td>1005</td>\n",
       "      <td>871</td>\n",
       "      <td>M.E.S</td>\n",
       "      <td>8</td>\n",
       "      <td>1005</td>\n",
       "      <td>1003</td>\n",
       "      <td>LneaDw26bFvPh9xBHNw1btQoyP60ay_WWthtvXCx37s</td>\n",
       "      <td>2</td>\n",
       "      <td>760</td>\n",
       "      <td>760</td>\n",
       "      <td>2014-11-08T05:52:20.157000</td>\n",
       "      <td>1</td>\n",
       "      <td>1005</td>\n",
       "      <td>841</td>\n",
       "      <td>Check out this video on YouTube:﻿</td>\n",
       "      <td>97</td>\n",
       "    </tr>\n",
       "  </tbody>\n",
       "</table>\n",
       "</div>"
      ],
      "text/plain": [
       "      AUTHOR                       COMMENT_ID         \\\n",
       "       count unique       top freq      count unique   \n",
       "label                                                  \n",
       "0        951    922  5000palo    7        951    950   \n",
       "1       1005    871     M.E.S    8       1005   1003   \n",
       "\n",
       "                                                         DATE         \\\n",
       "                                               top freq count unique   \n",
       "label                                                                  \n",
       "0      _2viQ_Qnc68fX3dYsfYuM-m4ELMJvxOQBmBOFHqGOk0    2   951    950   \n",
       "1      LneaDw26bFvPh9xBHNw1btQoyP60ay_WWthtvXCx37s    2   760    760   \n",
       "\n",
       "                                       content         \\\n",
       "                              top freq   count unique   \n",
       "label                                                   \n",
       "0      2013-10-05T00:57:25.078000    2     951    919   \n",
       "1      2014-11-08T05:52:20.157000    1    1005    841   \n",
       "\n",
       "                                               \n",
       "                                     top freq  \n",
       "label                                          \n",
       "0                                    wow    4  \n",
       "1      Check out this video on YouTube:﻿   97  "
      ]
     },
     "execution_count": 15,
     "metadata": {},
     "output_type": "execute_result"
    }
   ],
   "source": [
    "ytb.groupby('label').describe()"
   ]
  },
  {
   "cell_type": "markdown",
   "metadata": {},
   "source": [
    "Now let's create new feature \"message length\" and plot it to see if it's of any interest"
   ]
  },
  {
   "cell_type": "code",
   "execution_count": 16,
   "metadata": {},
   "outputs": [
    {
     "data": {
      "text/html": [
       "<div>\n",
       "<style scoped>\n",
       "    .dataframe tbody tr th:only-of-type {\n",
       "        vertical-align: middle;\n",
       "    }\n",
       "\n",
       "    .dataframe tbody tr th {\n",
       "        vertical-align: top;\n",
       "    }\n",
       "\n",
       "    .dataframe thead th {\n",
       "        text-align: right;\n",
       "    }\n",
       "</style>\n",
       "<table border=\"1\" class=\"dataframe\">\n",
       "  <thead>\n",
       "    <tr style=\"text-align: right;\">\n",
       "      <th></th>\n",
       "      <th>COMMENT_ID</th>\n",
       "      <th>AUTHOR</th>\n",
       "      <th>DATE</th>\n",
       "      <th>content</th>\n",
       "      <th>label</th>\n",
       "      <th>length</th>\n",
       "    </tr>\n",
       "  </thead>\n",
       "  <tbody>\n",
       "    <tr>\n",
       "      <th>0</th>\n",
       "      <td>LZQPQhLyRh80UYxNuaDWhIGQYNQ96IuCg-AYWqNPjpU</td>\n",
       "      <td>Julius NM</td>\n",
       "      <td>2013-11-07T06:20:48</td>\n",
       "      <td>Huh, anyway check out this you[tube] channel: ...</td>\n",
       "      <td>spam</td>\n",
       "      <td>56</td>\n",
       "    </tr>\n",
       "    <tr>\n",
       "      <th>1</th>\n",
       "      <td>LZQPQhLyRh_C2cTtd9MvFRJedxydaVW-2sNg5Diuo4A</td>\n",
       "      <td>adam riyati</td>\n",
       "      <td>2013-11-07T12:37:15</td>\n",
       "      <td>Hey guys check out my new channel and our firs...</td>\n",
       "      <td>spam</td>\n",
       "      <td>166</td>\n",
       "    </tr>\n",
       "    <tr>\n",
       "      <th>2</th>\n",
       "      <td>LZQPQhLyRh9MSZYnf8djyk0gEF9BHDPYrrK-qCczIY8</td>\n",
       "      <td>Evgeny Murashkin</td>\n",
       "      <td>2013-11-08T17:34:21</td>\n",
       "      <td>just for test I have to say murdev.com</td>\n",
       "      <td>spam</td>\n",
       "      <td>38</td>\n",
       "    </tr>\n",
       "    <tr>\n",
       "      <th>3</th>\n",
       "      <td>z13jhp0bxqncu512g22wvzkasxmvvzjaz04</td>\n",
       "      <td>ElNino Melendez</td>\n",
       "      <td>2013-11-09T08:28:43</td>\n",
       "      <td>me shaking my sexy ass on my channel enjoy ^_^ ﻿</td>\n",
       "      <td>spam</td>\n",
       "      <td>48</td>\n",
       "    </tr>\n",
       "    <tr>\n",
       "      <th>4</th>\n",
       "      <td>z13fwbwp1oujthgqj04chlngpvzmtt3r3dw</td>\n",
       "      <td>GsMega</td>\n",
       "      <td>2013-11-10T16:05:38</td>\n",
       "      <td>watch?v=vtaRGgvGtWQ   Check this out .﻿</td>\n",
       "      <td>spam</td>\n",
       "      <td>39</td>\n",
       "    </tr>\n",
       "  </tbody>\n",
       "</table>\n",
       "</div>"
      ],
      "text/plain": [
       "                                    COMMENT_ID            AUTHOR  \\\n",
       "0  LZQPQhLyRh80UYxNuaDWhIGQYNQ96IuCg-AYWqNPjpU         Julius NM   \n",
       "1  LZQPQhLyRh_C2cTtd9MvFRJedxydaVW-2sNg5Diuo4A       adam riyati   \n",
       "2  LZQPQhLyRh9MSZYnf8djyk0gEF9BHDPYrrK-qCczIY8  Evgeny Murashkin   \n",
       "3          z13jhp0bxqncu512g22wvzkasxmvvzjaz04   ElNino Melendez   \n",
       "4          z13fwbwp1oujthgqj04chlngpvzmtt3r3dw            GsMega   \n",
       "\n",
       "                  DATE                                            content  \\\n",
       "0  2013-11-07T06:20:48  Huh, anyway check out this you[tube] channel: ...   \n",
       "1  2013-11-07T12:37:15  Hey guys check out my new channel and our firs...   \n",
       "2  2013-11-08T17:34:21             just for test I have to say murdev.com   \n",
       "3  2013-11-09T08:28:43   me shaking my sexy ass on my channel enjoy ^_^ ﻿   \n",
       "4  2013-11-10T16:05:38            watch?v=vtaRGgvGtWQ   Check this out .﻿   \n",
       "\n",
       "  label  length  \n",
       "0  spam      56  \n",
       "1  spam     166  \n",
       "2  spam      38  \n",
       "3  spam      48  \n",
       "4  spam      39  "
      ]
     },
     "execution_count": 16,
     "metadata": {},
     "output_type": "execute_result"
    }
   ],
   "source": [
    "ytb['length'] = ytb['content'].apply(len)\n",
    "\n",
    "ytb['label'] = ytb['label'].apply(lambda x: 'spam' if x==1 else 'ham')\n",
    "ytb.head()"
   ]
  },
  {
   "cell_type": "code",
   "execution_count": 17,
   "metadata": {},
   "outputs": [
    {
     "data": {
      "image/png": "[encoded data removed]",
      "text/plain": [
       "<Figure size 792x360 with 2 Axes>"
      ]
     },
     "metadata": {},
     "output_type": "display_data"
    }
   ],
   "source": [
    "mpl.rcParams['patch.force_edgecolor'] = True\n",
    "plt.style.use('seaborn-bright')\n",
    "ytb.hist(column='length', by='label', bins=50,figsize=(11,5))\n",
    "plt.savefig(\"../img/ytb-length-distribution.eps\")\n",
    "plt.show()"
   ]
  },
  {
   "cell_type": "markdown",
   "metadata": {},
   "source": [
    "### Text processing and vectorizing our meddages\n",
    "\n",
    "Let's create new data frame. We'll need a copy later on"
   ]
  },
  {
   "cell_type": "code",
   "execution_count": 18,
   "metadata": {
    "collapsed": true
   },
   "outputs": [],
   "source": [
    "text_feat = ytb['content'].copy()"
   ]
  },
  {
   "cell_type": "markdown",
   "metadata": {},
   "source": [
    "Now define our tex precessing function. It will remove any punctuation and stopwords aswell."
   ]
  },
  {
   "cell_type": "code",
   "execution_count": 19,
   "metadata": {
    "collapsed": true
   },
   "outputs": [],
   "source": [
    "def text_process(text):\n",
    "    \n",
    "    text = text.translate(str.maketrans('', '', string.punctuation))\n",
    "    text = [word for word in text.split() if word.lower() not in stopwords.words('english')]\n",
    "    \n",
    "    return \" \".join(text)"
   ]
  },
  {
   "cell_type": "code",
   "execution_count": 20,
   "metadata": {
    "collapsed": true
   },
   "outputs": [],
   "source": [
    "text_feat = text_feat.apply(text_process)"
   ]
  },
  {
   "cell_type": "code",
   "execution_count": 21,
   "metadata": {
    "collapsed": true
   },
   "outputs": [],
   "source": [
    "vectorizer = CountVectorizer()"
   ]
  },
  {
   "cell_type": "code",
   "execution_count": 22,
   "metadata": {
    "collapsed": true
   },
   "outputs": [],
   "source": [
    "features = vectorizer.fit_transform(text_feat)"
   ]
  },
  {
   "cell_type": "code",
   "execution_count": 23,
   "metadata": {
    "collapsed": true
   },
   "outputs": [],
   "source": [
    "labels = LabelEncoder().fit_transform(ytb['label'])\n",
    "labels = labels.reshape(-1,1)"
   ]
  },
  {
   "cell_type": "code",
   "execution_count": 24,
   "metadata": {},
   "outputs": [
    {
     "data": {
      "text/plain": [
       "(1956,)"
      ]
     },
     "execution_count": 24,
     "metadata": {},
     "output_type": "execute_result"
    }
   ],
   "source": [
    "text_feat.shape"
   ]
  },
  {
   "cell_type": "code",
   "execution_count": 25,
   "metadata": {},
   "outputs": [
    {
     "data": {
      "text/plain": [
       "(1956, 4185)"
      ]
     },
     "execution_count": 25,
     "metadata": {},
     "output_type": "execute_result"
    }
   ],
   "source": [
    "features.shape"
   ]
  },
  {
   "cell_type": "markdown",
   "metadata": {},
   "source": [
    "###  Classifiers and predictions"
   ]
  },
  {
   "cell_type": "markdown",
   "metadata": {},
   "source": [
    "First of all let's split our features to test and train set"
   ]
  },
  {
   "cell_type": "markdown",
   "metadata": {},
   "source": [
    "Now let's import bunch of classifiers, initialize them and make a dictionary to itereate through"
   ]
  },
  {
   "cell_type": "code",
   "execution_count": 26,
   "metadata": {},
   "outputs": [
    {
     "name": "stderr",
     "output_type": "stream",
     "text": [
      "/Users/alex/anaconda/envs/gc/lib/python3.6/site-packages/sklearn/ensemble/weight_boosting.py:29: DeprecationWarning: numpy.core.umath_tests is an internal NumPy module and should not be imported. It will be removed in a future NumPy release.\n",
      "  from numpy.core.umath_tests import inner1d\n"
     ]
    }
   ],
   "source": [
    "from sklearn.linear_model import LogisticRegression\n",
    "from sklearn.svm import SVC\n",
    "from sklearn.naive_bayes import MultinomialNB\n",
    "from sklearn.tree import DecisionTreeClassifier\n",
    "from sklearn.neighbors import KNeighborsClassifier\n",
    "from sklearn.ensemble import RandomForestClassifier\n",
    "from sklearn.ensemble import AdaBoostClassifier\n",
    "from sklearn.ensemble import BaggingClassifier\n",
    "from sklearn.ensemble import ExtraTreesClassifier\n",
    "from sklearn.metrics import precision_score, recall_score, accuracy_score, f1_score"
   ]
  },
  {
   "cell_type": "code",
   "execution_count": 27,
   "metadata": {
    "collapsed": true
   },
   "outputs": [],
   "source": [
    "svc = SVC(kernel='sigmoid', gamma=1.0)\n",
    "knc = KNeighborsClassifier()\n",
    "mnb = MultinomialNB()\n",
    "dtc = DecisionTreeClassifier(random_state=111)\n",
    "lrc = LogisticRegression(solver='liblinear', penalty='l1')\n",
    "rfc = RandomForestClassifier(n_estimators=500, random_state=111)\n",
    "abc = AdaBoostClassifier(random_state=111)\n",
    "bc = BaggingClassifier(random_state=111)\n",
    "etc = ExtraTreesClassifier(random_state=111)"
   ]
  },
  {
   "cell_type": "code",
   "execution_count": 28,
   "metadata": {
    "collapsed": true
   },
   "outputs": [],
   "source": [
    "features_train, features_test, labels_train, labels_test = train_test_split(features, labels, test_size=0.3, stratify=labels, random_state=111)"
   ]
  },
  {
   "cell_type": "code",
   "execution_count": 29,
   "metadata": {
    "collapsed": true
   },
   "outputs": [],
   "source": [
    "clfs = {'SVC' : svc,'KN' : knc, 'NB': mnb, 'DT': dtc, 'LR': lrc, 'RF': rfc, 'AdaBoost': abc, 'BgC': bc, 'ETC': etc}"
   ]
  },
  {
   "cell_type": "markdown",
   "metadata": {},
   "source": [
    "Let's make functions to fit our classifiers and make predictions"
   ]
  },
  {
   "cell_type": "code",
   "execution_count": 30,
   "metadata": {
    "collapsed": true
   },
   "outputs": [],
   "source": [
    "def train_classifier(clf, feature_train, labels_train):    \n",
    "    clf.fit(feature_train, labels_train)"
   ]
  },
  {
   "cell_type": "code",
   "execution_count": 31,
   "metadata": {
    "collapsed": true
   },
   "outputs": [],
   "source": [
    "def predict_labels(clf, features):\n",
    "    return (clf.predict(features))"
   ]
  },
  {
   "cell_type": "markdown",
   "metadata": {
    "collapsed": true
   },
   "source": [
    "Now iterate through classifiers and save the results"
   ]
  },
  {
   "cell_type": "code",
   "execution_count": 32,
   "metadata": {
    "collapsed": true
   },
   "outputs": [],
   "source": [
    "import time"
   ]
  },
  {
   "cell_type": "code",
   "execution_count": 33,
   "metadata": {},
   "outputs": [
    {
     "name": "stderr",
     "output_type": "stream",
     "text": [
      "/Users/alex/anaconda/envs/gc/lib/python3.6/site-packages/sklearn/utils/validation.py:578: DataConversionWarning: A column-vector y was passed when a 1d array was expected. Please change the shape of y to (n_samples, ), for example using ravel().\n",
      "  y = column_or_1d(y, warn=True)\n",
      "/Users/alex/anaconda/envs/gc/lib/python3.6/site-packages/ipykernel/__main__.py:2: DataConversionWarning: A column-vector y was passed when a 1d array was expected. Please change the shape of y to (n_samples, ), for example using ravel().\n",
      "  from ipykernel import kernelapp as app\n",
      "/Users/alex/anaconda/envs/gc/lib/python3.6/site-packages/ipykernel/__main__.py:2: DataConversionWarning: A column-vector y was passed when a 1d array was expected. Please change the shape of y to (n_samples,), for example using ravel().\n",
      "  from ipykernel import kernelapp as app\n",
      "/Users/alex/anaconda/envs/gc/lib/python3.6/site-packages/sklearn/utils/validation.py:578: DataConversionWarning: A column-vector y was passed when a 1d array was expected. Please change the shape of y to (n_samples, ), for example using ravel().\n",
      "  y = column_or_1d(y, warn=True)\n",
      "/Users/alex/anaconda/envs/gc/lib/python3.6/site-packages/sklearn/utils/validation.py:578: DataConversionWarning: A column-vector y was passed when a 1d array was expected. Please change the shape of y to (n_samples, ), for example using ravel().\n",
      "  y = column_or_1d(y, warn=True)\n",
      "/Users/alex/anaconda/envs/gc/lib/python3.6/site-packages/ipykernel/__main__.py:2: DataConversionWarning: A column-vector y was passed when a 1d array was expected. Please change the shape of y to (n_samples,), for example using ravel().\n",
      "  from ipykernel import kernelapp as app\n"
     ]
    }
   ],
   "source": [
    "pred_scores = []\n",
    "for k,v in clfs.items():\n",
    "    since = time.time()\n",
    "   \n",
    "    train_classifier(v, features_train, labels_train)\n",
    "    time_elapsed = time.time() - since\n",
    "    \n",
    "    pred = predict_labels(v,features_test)\n",
    "    pred_scores.append((k, [precision_score(labels_test,pred), recall_score(labels_test,pred), accuracy_score(labels_test,pred), f1_score(labels_test,pred), '{:.0f}m {:.4f}s'.format(time_elapsed // 60, time_elapsed % 60)]))\n"
   ]
  },
  {
   "cell_type": "code",
   "execution_count": 34,
   "metadata": {
    "collapsed": true
   },
   "outputs": [],
   "source": [
    "# pred_scores"
   ]
  },
  {
   "cell_type": "code",
   "execution_count": 35,
   "metadata": {},
   "outputs": [
    {
     "data": {
      "text/html": [
       "<div>\n",
       "<style scoped>\n",
       "    .dataframe tbody tr th:only-of-type {\n",
       "        vertical-align: middle;\n",
       "    }\n",
       "\n",
       "    .dataframe tbody tr th {\n",
       "        vertical-align: top;\n",
       "    }\n",
       "\n",
       "    .dataframe thead th {\n",
       "        text-align: right;\n",
       "    }\n",
       "</style>\n",
       "<table border=\"1\" class=\"dataframe\">\n",
       "  <thead>\n",
       "    <tr style=\"text-align: right;\">\n",
       "      <th></th>\n",
       "      <th>Precision</th>\n",
       "      <th>Recall</th>\n",
       "      <th>Accuracy</th>\n",
       "      <th>F1</th>\n",
       "      <th>Training Time (s)</th>\n",
       "    </tr>\n",
       "  </thead>\n",
       "  <tbody>\n",
       "    <tr>\n",
       "      <th>SVC</th>\n",
       "      <td>0.776699</td>\n",
       "      <td>0.794702</td>\n",
       "      <td>0.776831</td>\n",
       "      <td>0.785597</td>\n",
       "      <td>0m 0.0521s</td>\n",
       "    </tr>\n",
       "    <tr>\n",
       "      <th>KN</th>\n",
       "      <td>0.983425</td>\n",
       "      <td>0.589404</td>\n",
       "      <td>0.783646</td>\n",
       "      <td>0.737060</td>\n",
       "      <td>0m 0.0007s</td>\n",
       "    </tr>\n",
       "    <tr>\n",
       "      <th>NB</th>\n",
       "      <td>0.886926</td>\n",
       "      <td>0.831126</td>\n",
       "      <td>0.858603</td>\n",
       "      <td>0.858120</td>\n",
       "      <td>0m 0.0011s</td>\n",
       "    </tr>\n",
       "    <tr>\n",
       "      <th>DT</th>\n",
       "      <td>0.936330</td>\n",
       "      <td>0.827815</td>\n",
       "      <td>0.882453</td>\n",
       "      <td>0.878735</td>\n",
       "      <td>0m 0.0348s</td>\n",
       "    </tr>\n",
       "    <tr>\n",
       "      <th>LR</th>\n",
       "      <td>0.956522</td>\n",
       "      <td>0.801325</td>\n",
       "      <td>0.879046</td>\n",
       "      <td>0.872072</td>\n",
       "      <td>0m 0.0034s</td>\n",
       "    </tr>\n",
       "    <tr>\n",
       "      <th>RF</th>\n",
       "      <td>0.972656</td>\n",
       "      <td>0.824503</td>\n",
       "      <td>0.897785</td>\n",
       "      <td>0.892473</td>\n",
       "      <td>0m 4.5593s</td>\n",
       "    </tr>\n",
       "    <tr>\n",
       "      <th>AdaBoost</th>\n",
       "      <td>0.952941</td>\n",
       "      <td>0.804636</td>\n",
       "      <td>0.879046</td>\n",
       "      <td>0.872531</td>\n",
       "      <td>0m 0.4357s</td>\n",
       "    </tr>\n",
       "    <tr>\n",
       "      <th>BgC</th>\n",
       "      <td>0.961390</td>\n",
       "      <td>0.824503</td>\n",
       "      <td>0.892675</td>\n",
       "      <td>0.887701</td>\n",
       "      <td>0m 0.2522s</td>\n",
       "    </tr>\n",
       "    <tr>\n",
       "      <th>ETC</th>\n",
       "      <td>0.951417</td>\n",
       "      <td>0.778146</td>\n",
       "      <td>0.865417</td>\n",
       "      <td>0.856102</td>\n",
       "      <td>0m 0.1473s</td>\n",
       "    </tr>\n",
       "  </tbody>\n",
       "</table>\n",
       "</div>"
      ],
      "text/plain": [
       "          Precision    Recall  Accuracy        F1 Training Time (s)\n",
       "SVC        0.776699  0.794702  0.776831  0.785597        0m 0.0521s\n",
       "KN         0.983425  0.589404  0.783646  0.737060        0m 0.0007s\n",
       "NB         0.886926  0.831126  0.858603  0.858120        0m 0.0011s\n",
       "DT         0.936330  0.827815  0.882453  0.878735        0m 0.0348s\n",
       "LR         0.956522  0.801325  0.879046  0.872072        0m 0.0034s\n",
       "RF         0.972656  0.824503  0.897785  0.892473        0m 4.5593s\n",
       "AdaBoost   0.952941  0.804636  0.879046  0.872531        0m 0.4357s\n",
       "BgC        0.961390  0.824503  0.892675  0.887701        0m 0.2522s\n",
       "ETC        0.951417  0.778146  0.865417  0.856102        0m 0.1473s"
      ]
     },
     "execution_count": 35,
     "metadata": {},
     "output_type": "execute_result"
    }
   ],
   "source": [
    "df = pd.DataFrame.from_items(pred_scores,orient='index', columns=['Precision', 'Recall', 'Accuracy', 'F1', 'Training Time (s)'])\n",
    "df\n"
   ]
  },
  {
   "cell_type": "code",
   "execution_count": 37,
   "metadata": {},
   "outputs": [
    {
     "data": {
      "image/png": "[encoded data removed]",
      "text/plain": [
       "<Figure size 792x432 with 1 Axes>"
      ]
     },
     "metadata": {},
     "output_type": "display_data"
    }
   ],
   "source": [
    "df.plot(kind='bar', y=\"Accuracy\", ylim=(0.7,1.0), figsize=(11,6), align='center', colormap=\"Accent\")\n",
    "plt.xticks(np.arange(9), df.index)\n",
    "plt.ylabel('Accuracy Score')\n",
    "plt.title('Distribution by Classifier')\n",
    "plt.legend(bbox_to_anchor=(1.05, 1), loc=2, borderaxespad=0.)\n",
    "plt.savefig(\"../img/ytb-acc-basemodel-v4-stop.eps\")\n",
    "plt.show()"
   ]
  },
  {
   "cell_type": "markdown",
   "metadata": {},
   "source": [
    "### RNN\n",
    "Define the RNN structure."
   ]
  },
  {
   "cell_type": "code",
   "execution_count": 38,
   "metadata": {},
   "outputs": [
    {
     "name": "stderr",
     "output_type": "stream",
     "text": [
      "Using TensorFlow backend.\n"
     ]
    }
   ],
   "source": [
    "from keras.models import Model\n",
    "from keras.layers import LSTM, Activation, Dense, Dropout, Input, Embedding\n",
    "from keras.optimizers import RMSprop\n",
    "from keras.preprocessing.text import Tokenizer\n",
    "from keras.preprocessing import sequence\n",
    "from keras.utils import to_categorical\n",
    "from keras.callbacks import EarlyStopping\n",
    "from keras.callbacks import Callback"
   ]
  },
  {
   "cell_type": "markdown",
   "metadata": {
    "collapsed": true
   },
   "source": [
    "### Process the data\n",
    "* Tokenize the data and convert the text to sequences.\n",
    "* Add padding to ensure that all the sequences have the same shape.\n",
    "* There are many ways of taking the *max_len* and here an arbitrary length of 500 is chosen. (From the Fig, almost all the sentences have the length < 500)"
   ]
  },
  {
   "cell_type": "code",
   "execution_count": 39,
   "metadata": {
    "collapsed": true
   },
   "outputs": [],
   "source": [
    "features_lstm = text_feat\n",
    "labels_lstm = labels"
   ]
  },
  {
   "cell_type": "code",
   "execution_count": 40,
   "metadata": {
    "collapsed": true
   },
   "outputs": [],
   "source": [
    "max_words = 1000\n",
    "max_len = 500 # n_features\n",
    "tok = Tokenizer(num_words=max_words)\n",
    "tok.fit_on_texts(features_lstm)\n",
    "sequences = tok.texts_to_sequences(features_lstm)\n",
    "features_lstm = sequence.pad_sequences(sequences,maxlen=max_len)"
   ]
  },
  {
   "cell_type": "code",
   "execution_count": 41,
   "metadata": {},
   "outputs": [
    {
     "data": {
      "text/plain": [
       "(1956, 500)"
      ]
     },
     "execution_count": 41,
     "metadata": {},
     "output_type": "execute_result"
    }
   ],
   "source": [
    "features_lstm.shape"
   ]
  },
  {
   "cell_type": "code",
   "execution_count": 42,
   "metadata": {},
   "outputs": [
    {
     "data": {
      "text/plain": [
       "(1956, 1)"
      ]
     },
     "execution_count": 42,
     "metadata": {},
     "output_type": "execute_result"
    }
   ],
   "source": [
    "labels_lstm.shape"
   ]
  },
  {
   "cell_type": "code",
   "execution_count": 43,
   "metadata": {
    "collapsed": true
   },
   "outputs": [],
   "source": [
    "features_lstm_train, features_lstm_test, labels_lstm_train, labels_lstm_test = train_test_split(features_lstm, labels_lstm, test_size=0.3, random_state=111, stratify=labels_lstm)\n"
   ]
  },
  {
   "cell_type": "code",
   "execution_count": 44,
   "metadata": {
    "collapsed": true
   },
   "outputs": [],
   "source": [
    "def RNN():\n",
    "    inputs = Input(name='inputs',shape=[max_len])\n",
    "    layer = Embedding(max_words,50,input_length=max_len)(inputs)\n",
    "    layer = LSTM(100)(layer)\n",
    "    layer = Dense(256,name='FC1')(layer)\n",
    "    layer = Activation('relu')(layer)\n",
    "    layer = Dropout(0.1)(layer)\n",
    "    layer = Dense(1,name='out_layer')(layer)\n",
    "    layer = Activation('sigmoid')(layer)\n",
    "    model = Model(inputs=inputs,outputs=layer)\n",
    "    return model"
   ]
  },
  {
   "cell_type": "code",
   "execution_count": 45,
   "metadata": {},
   "outputs": [
    {
     "name": "stdout",
     "output_type": "stream",
     "text": [
      "_________________________________________________________________\n",
      "Layer (type)                 Output Shape              Param #   \n",
      "=================================================================\n",
      "inputs (InputLayer)          (None, 500)               0         \n",
      "_________________________________________________________________\n",
      "embedding_1 (Embedding)      (None, 500, 50)           50000     \n",
      "_________________________________________________________________\n",
      "lstm_1 (LSTM)                (None, 100)               60400     \n",
      "_________________________________________________________________\n",
      "FC1 (Dense)                  (None, 256)               25856     \n",
      "_________________________________________________________________\n",
      "activation_1 (Activation)    (None, 256)               0         \n",
      "_________________________________________________________________\n",
      "dropout_1 (Dropout)          (None, 256)               0         \n",
      "_________________________________________________________________\n",
      "out_layer (Dense)            (None, 1)                 257       \n",
      "_________________________________________________________________\n",
      "activation_2 (Activation)    (None, 1)                 0         \n",
      "=================================================================\n",
      "Total params: 136,513\n",
      "Trainable params: 136,513\n",
      "Non-trainable params: 0\n",
      "_________________________________________________________________\n"
     ]
    }
   ],
   "source": [
    "model = RNN()\n",
    "model.summary()\n",
    "model.compile(loss='binary_crossentropy',optimizer=RMSprop(),metrics=['accuracy'])"
   ]
  },
  {
   "cell_type": "code",
   "execution_count": 46,
   "metadata": {},
   "outputs": [
    {
     "name": "stdout",
     "output_type": "stream",
     "text": [
      "Train on 1095 samples, validate on 274 samples\n",
      "Epoch 1/10\n",
      "1095/1095 [==============================] - 9s 8ms/step - loss: 0.6645 - acc: 0.6639 - val_loss: 0.5957 - val_acc: 0.7883\n",
      "Epoch 2/10\n",
      "1095/1095 [==============================] - 9s 8ms/step - loss: 0.9365 - acc: 0.7589 - val_loss: 0.4535 - val_acc: 0.8321\n",
      "Epoch 3/10\n",
      "1095/1095 [==============================] - 9s 8ms/step - loss: 0.3625 - acc: 0.8831 - val_loss: 0.3688 - val_acc: 0.8504\n",
      "Epoch 4/10\n",
      "1095/1095 [==============================] - 8s 8ms/step - loss: 0.3014 - acc: 0.8959 - val_loss: 0.3170 - val_acc: 0.8832\n",
      "Epoch 5/10\n",
      "1095/1095 [==============================] - 7s 7ms/step - loss: 0.2360 - acc: 0.9151 - val_loss: 0.2971 - val_acc: 0.8723\n",
      "Epoch 6/10\n",
      "1095/1095 [==============================] - 7s 7ms/step - loss: 0.2122 - acc: 0.9224 - val_loss: 0.2842 - val_acc: 0.8759\n",
      "Epoch 7/10\n",
      "1095/1095 [==============================] - 7s 7ms/step - loss: 0.1695 - acc: 0.9370 - val_loss: 0.2724 - val_acc: 0.8832\n",
      "Epoch 8/10\n",
      "1095/1095 [==============================] - 7s 7ms/step - loss: 0.1489 - acc: 0.9452 - val_loss: 0.3157 - val_acc: 0.8832\n"
     ]
    }
   ],
   "source": [
    "since = time.time()\n",
    "    \n",
    "\n",
    "model.fit(features_lstm_train, labels_lstm_train, epochs=10, batch_size=128,validation_split=0.2,\n",
    "                      callbacks=[EarlyStopping(monitor='val_loss',min_delta=0.0001)])\n",
    "\n",
    "time_elapsed = time.time() - since"
   ]
  },
  {
   "cell_type": "code",
   "execution_count": 47,
   "metadata": {},
   "outputs": [
    {
     "name": "stdout",
     "output_type": "stream",
     "text": [
      "Training complete in 1m 4.8802s\n"
     ]
    }
   ],
   "source": [
    "print('Training complete in {:.0f}m {:.4f}s'.format(\n",
    "        time_elapsed // 60, time_elapsed % 60)) "
   ]
  },
  {
   "cell_type": "code",
   "execution_count": 48,
   "metadata": {
    "collapsed": true
   },
   "outputs": [],
   "source": [
    "pred = (np.asarray(model.predict(features_lstm_test, batch_size=128))).round()"
   ]
  },
  {
   "cell_type": "code",
   "execution_count": 49,
   "metadata": {
    "collapsed": true
   },
   "outputs": [],
   "source": [
    "pred_scores.append((\"LSTM\", [precision_score(labels_lstm_test,pred), recall_score(labels_lstm_test,pred), accuracy_score(labels_lstm_test,pred), f1_score(labels_lstm_test,pred), '{:.0f}m {:.4f}s'.format(time_elapsed // 60, time_elapsed % 60)]))\n"
   ]
  },
  {
   "cell_type": "markdown",
   "metadata": {},
   "source": [
    "### gcForest"
   ]
  },
  {
   "cell_type": "code",
   "execution_count": 50,
   "metadata": {
    "collapsed": true
   },
   "outputs": [],
   "source": [
    "import sys\n",
    "sys.path.append(\"..\") \n",
    "from gcforest.gcforest import GCForest\n",
    "from gcforest.utils.config_utils import load_json"
   ]
  },
  {
   "cell_type": "code",
   "execution_count": 51,
   "metadata": {
    "collapsed": true
   },
   "outputs": [],
   "source": [
    "def get_toy_config():\n",
    "    config = {}\n",
    "    ca_config = {}\n",
    "    ca_config[\"random_state\"] = 111\n",
    "    ca_config[\"max_layers\"] = 20\n",
    "    ca_config[\"early_stopping_rounds\"] = 3\n",
    "    ca_config[\"n_classes\"] = 2\n",
    "    ca_config[\"estimators\"] = []\n",
    "    ca_config[\"estimators\"].append({\"n_folds\": 5, \"type\": \"DecisionTreeClassifier\"})\n",
    "    ca_config[\"estimators\"].append({\"n_folds\": 5, \"type\": \"MultinomialNB\"})\n",
    "    ca_config[\"estimators\"].append({\"n_folds\": 5, \"type\": \"LogisticRegression\"})\n",
    "    config[\"cascade\"] = ca_config\n",
    "    return config"
   ]
  },
  {
   "cell_type": "code",
   "execution_count": 52,
   "metadata": {},
   "outputs": [
    {
     "name": "stderr",
     "output_type": "stream",
     "text": [
      "[ 2019-04-23 23:20:36,096][cascade_classifier.fit_transform] X_groups_train.shape=[(1369, 4185)],y_train.shape=(1369,),X_groups_test.shape=no_test,y_test.shape=no_test\n",
      "[ 2019-04-23 23:20:36,156][cascade_classifier.fit_transform] group_dims=[4185]\n",
      "[ 2019-04-23 23:20:36,157][cascade_classifier.fit_transform] group_starts=[0]\n",
      "[ 2019-04-23 23:20:36,158][cascade_classifier.fit_transform] group_ends=[4185]\n",
      "[ 2019-04-23 23:20:36,159][cascade_classifier.fit_transform] X_train.shape=(1369, 4185),X_test.shape=(0, 4185)\n",
      "[ 2019-04-23 23:20:36,194][cascade_classifier.fit_transform] [layer=0] look_indexs=[0], X_cur_train.shape=(1369, 4185), X_cur_test.shape=(0, 4185)\n",
      "[ 2019-04-23 23:20:36,599][kfold_wrapper.log_eval_metrics] Accuracy(layer_0 - estimator_0 - 5_folds.train_0.predict)=91.27%\n",
      "[ 2019-04-23 23:20:36,987][kfold_wrapper.log_eval_metrics] Accuracy(layer_0 - estimator_0 - 5_folds.train_1.predict)=93.43%\n",
      "[ 2019-04-23 23:20:37,363][kfold_wrapper.log_eval_metrics] Accuracy(layer_0 - estimator_0 - 5_folds.train_2.predict)=89.78%\n",
      "[ 2019-04-23 23:20:37,745][kfold_wrapper.log_eval_metrics] Accuracy(layer_0 - estimator_0 - 5_folds.train_3.predict)=88.28%\n",
      "[ 2019-04-23 23:20:38,405][kfold_wrapper.log_eval_metrics] Accuracy(layer_0 - estimator_0 - 5_folds.train_4.predict)=89.74%\n",
      "[ 2019-04-23 23:20:38,407][kfold_wrapper.log_eval_metrics] Accuracy(layer_0 - estimator_0 - 5_folds.train_cv.predict)=90.50%\n",
      "[ 2019-04-23 23:20:38,435][kfold_wrapper.log_eval_metrics] Accuracy(layer_0 - estimator_1 - 5_folds.train_0.predict)=86.18%\n",
      "[ 2019-04-23 23:20:38,479][kfold_wrapper.log_eval_metrics] Accuracy(layer_0 - estimator_1 - 5_folds.train_1.predict)=87.23%\n",
      "[ 2019-04-23 23:20:38,507][kfold_wrapper.log_eval_metrics] Accuracy(layer_0 - estimator_1 - 5_folds.train_2.predict)=86.13%\n",
      "[ 2019-04-23 23:20:38,553][kfold_wrapper.log_eval_metrics] Accuracy(layer_0 - estimator_1 - 5_folds.train_3.predict)=84.98%\n",
      "[ 2019-04-23 23:20:38,595][kfold_wrapper.log_eval_metrics] Accuracy(layer_0 - estimator_1 - 5_folds.train_4.predict)=86.08%\n",
      "[ 2019-04-23 23:20:38,597][kfold_wrapper.log_eval_metrics] Accuracy(layer_0 - estimator_1 - 5_folds.train_cv.predict)=86.12%\n",
      "[ 2019-04-23 23:20:38,647][kfold_wrapper.log_eval_metrics] Accuracy(layer_0 - estimator_2 - 5_folds.train_0.predict)=89.82%\n",
      "[ 2019-04-23 23:20:38,688][kfold_wrapper.log_eval_metrics] Accuracy(layer_0 - estimator_2 - 5_folds.train_1.predict)=88.69%\n",
      "[ 2019-04-23 23:20:38,750][kfold_wrapper.log_eval_metrics] Accuracy(layer_0 - estimator_2 - 5_folds.train_2.predict)=90.88%\n",
      "[ 2019-04-23 23:20:38,827][kfold_wrapper.log_eval_metrics] Accuracy(layer_0 - estimator_2 - 5_folds.train_3.predict)=90.84%\n",
      "[ 2019-04-23 23:20:38,890][kfold_wrapper.log_eval_metrics] Accuracy(layer_0 - estimator_2 - 5_folds.train_4.predict)=88.28%\n",
      "[ 2019-04-23 23:20:38,893][kfold_wrapper.log_eval_metrics] Accuracy(layer_0 - estimator_2 - 5_folds.train_cv.predict)=89.70%\n",
      "[ 2019-04-23 23:20:38,894][cascade_classifier.calc_accuracy] Accuracy(layer_0 - train.classifier_average)=90.87%\n",
      "[ 2019-04-23 23:20:38,960][cascade_classifier.fit_transform] [layer=1] look_indexs=[0], X_cur_train.shape=(1369, 4191), X_cur_test.shape=(0, 4191)\n",
      "[ 2019-04-23 23:20:39,381][kfold_wrapper.log_eval_metrics] Accuracy(layer_1 - estimator_0 - 5_folds.train_0.predict)=88.73%\n",
      "[ 2019-04-23 23:20:39,746][kfold_wrapper.log_eval_metrics] Accuracy(layer_1 - estimator_0 - 5_folds.train_1.predict)=92.70%\n",
      "[ 2019-04-23 23:20:39,957][kfold_wrapper.log_eval_metrics] Accuracy(layer_1 - estimator_0 - 5_folds.train_2.predict)=90.15%\n",
      "[ 2019-04-23 23:20:40,113][kfold_wrapper.log_eval_metrics] Accuracy(layer_1 - estimator_0 - 5_folds.train_3.predict)=94.51%\n",
      "[ 2019-04-23 23:20:40,306][kfold_wrapper.log_eval_metrics] Accuracy(layer_1 - estimator_0 - 5_folds.train_4.predict)=89.38%\n",
      "[ 2019-04-23 23:20:40,308][kfold_wrapper.log_eval_metrics] Accuracy(layer_1 - estimator_0 - 5_folds.train_cv.predict)=91.09%\n",
      "[ 2019-04-23 23:20:40,335][kfold_wrapper.log_eval_metrics] Accuracy(layer_1 - estimator_1 - 5_folds.train_0.predict)=90.18%\n",
      "[ 2019-04-23 23:20:40,384][kfold_wrapper.log_eval_metrics] Accuracy(layer_1 - estimator_1 - 5_folds.train_1.predict)=92.70%\n",
      "[ 2019-04-23 23:20:40,426][kfold_wrapper.log_eval_metrics] Accuracy(layer_1 - estimator_1 - 5_folds.train_2.predict)=90.51%\n",
      "[ 2019-04-23 23:20:40,466][kfold_wrapper.log_eval_metrics] Accuracy(layer_1 - estimator_1 - 5_folds.train_3.predict)=89.01%\n",
      "[ 2019-04-23 23:20:40,513][kfold_wrapper.log_eval_metrics] Accuracy(layer_1 - estimator_1 - 5_folds.train_4.predict)=89.74%\n",
      "[ 2019-04-23 23:20:40,514][kfold_wrapper.log_eval_metrics] Accuracy(layer_1 - estimator_1 - 5_folds.train_cv.predict)=90.43%\n",
      "[ 2019-04-23 23:20:40,553][kfold_wrapper.log_eval_metrics] Accuracy(layer_1 - estimator_2 - 5_folds.train_0.predict)=89.09%\n",
      "[ 2019-04-23 23:20:40,596][kfold_wrapper.log_eval_metrics] Accuracy(layer_1 - estimator_2 - 5_folds.train_1.predict)=90.15%\n",
      "[ 2019-04-23 23:20:40,636][kfold_wrapper.log_eval_metrics] Accuracy(layer_1 - estimator_2 - 5_folds.train_2.predict)=89.05%\n",
      "[ 2019-04-23 23:20:40,678][kfold_wrapper.log_eval_metrics] Accuracy(layer_1 - estimator_2 - 5_folds.train_3.predict)=90.84%\n",
      "[ 2019-04-23 23:20:40,718][kfold_wrapper.log_eval_metrics] Accuracy(layer_1 - estimator_2 - 5_folds.train_4.predict)=91.94%\n",
      "[ 2019-04-23 23:20:40,719][kfold_wrapper.log_eval_metrics] Accuracy(layer_1 - estimator_2 - 5_folds.train_cv.predict)=90.21%\n",
      "[ 2019-04-23 23:20:40,720][cascade_classifier.calc_accuracy] Accuracy(layer_1 - train.classifier_average)=91.23%\n",
      "[ 2019-04-23 23:20:40,763][cascade_classifier.fit_transform] [layer=2] look_indexs=[0], X_cur_train.shape=(1369, 4191), X_cur_test.shape=(0, 4191)\n",
      "[ 2019-04-23 23:20:40,948][kfold_wrapper.log_eval_metrics] Accuracy(layer_2 - estimator_0 - 5_folds.train_0.predict)=90.55%\n",
      "[ 2019-04-23 23:20:41,092][kfold_wrapper.log_eval_metrics] Accuracy(layer_2 - estimator_0 - 5_folds.train_1.predict)=89.05%\n",
      "[ 2019-04-23 23:20:41,278][kfold_wrapper.log_eval_metrics] Accuracy(layer_2 - estimator_0 - 5_folds.train_2.predict)=90.51%\n",
      "[ 2019-04-23 23:20:41,475][kfold_wrapper.log_eval_metrics] Accuracy(layer_2 - estimator_0 - 5_folds.train_3.predict)=91.21%\n",
      "[ 2019-04-23 23:20:41,625][kfold_wrapper.log_eval_metrics] Accuracy(layer_2 - estimator_0 - 5_folds.train_4.predict)=88.64%\n",
      "[ 2019-04-23 23:20:41,626][kfold_wrapper.log_eval_metrics] Accuracy(layer_2 - estimator_0 - 5_folds.train_cv.predict)=89.99%\n",
      "[ 2019-04-23 23:20:41,652][kfold_wrapper.log_eval_metrics] Accuracy(layer_2 - estimator_1 - 5_folds.train_0.predict)=91.64%\n",
      "[ 2019-04-23 23:20:41,676][kfold_wrapper.log_eval_metrics] Accuracy(layer_2 - estimator_1 - 5_folds.train_1.predict)=91.24%\n",
      "[ 2019-04-23 23:20:41,739][kfold_wrapper.log_eval_metrics] Accuracy(layer_2 - estimator_1 - 5_folds.train_2.predict)=91.24%\n",
      "[ 2019-04-23 23:20:41,782][kfold_wrapper.log_eval_metrics] Accuracy(layer_2 - estimator_1 - 5_folds.train_3.predict)=90.48%\n",
      "[ 2019-04-23 23:20:41,819][kfold_wrapper.log_eval_metrics] Accuracy(layer_2 - estimator_1 - 5_folds.train_4.predict)=87.18%\n",
      "[ 2019-04-23 23:20:41,821][kfold_wrapper.log_eval_metrics] Accuracy(layer_2 - estimator_1 - 5_folds.train_cv.predict)=90.36%\n",
      "[ 2019-04-23 23:20:41,868][kfold_wrapper.log_eval_metrics] Accuracy(layer_2 - estimator_2 - 5_folds.train_0.predict)=87.27%\n",
      "[ 2019-04-23 23:20:41,904][kfold_wrapper.log_eval_metrics] Accuracy(layer_2 - estimator_2 - 5_folds.train_1.predict)=90.51%\n",
      "[ 2019-04-23 23:20:41,928][kfold_wrapper.log_eval_metrics] Accuracy(layer_2 - estimator_2 - 5_folds.train_2.predict)=92.34%\n",
      "[ 2019-04-23 23:20:41,964][kfold_wrapper.log_eval_metrics] Accuracy(layer_2 - estimator_2 - 5_folds.train_3.predict)=93.41%\n",
      "[ 2019-04-23 23:20:41,999][kfold_wrapper.log_eval_metrics] Accuracy(layer_2 - estimator_2 - 5_folds.train_4.predict)=91.94%\n",
      "[ 2019-04-23 23:20:42,001][kfold_wrapper.log_eval_metrics] Accuracy(layer_2 - estimator_2 - 5_folds.train_cv.predict)=91.09%\n",
      "[ 2019-04-23 23:20:42,002][cascade_classifier.calc_accuracy] Accuracy(layer_2 - train.classifier_average)=91.09%\n",
      "[ 2019-04-23 23:20:42,020][cascade_classifier.fit_transform] [layer=3] look_indexs=[0], X_cur_train.shape=(1369, 4191), X_cur_test.shape=(0, 4191)\n",
      "[ 2019-04-23 23:20:42,231][kfold_wrapper.log_eval_metrics] Accuracy(layer_3 - estimator_0 - 5_folds.train_0.predict)=88.36%\n"
     ]
    },
    {
     "name": "stderr",
     "output_type": "stream",
     "text": [
      "[ 2019-04-23 23:20:42,525][kfold_wrapper.log_eval_metrics] Accuracy(layer_3 - estimator_0 - 5_folds.train_1.predict)=90.51%\n",
      "[ 2019-04-23 23:20:42,681][kfold_wrapper.log_eval_metrics] Accuracy(layer_3 - estimator_0 - 5_folds.train_2.predict)=94.16%\n",
      "[ 2019-04-23 23:20:42,926][kfold_wrapper.log_eval_metrics] Accuracy(layer_3 - estimator_0 - 5_folds.train_3.predict)=87.91%\n",
      "[ 2019-04-23 23:20:43,122][kfold_wrapper.log_eval_metrics] Accuracy(layer_3 - estimator_0 - 5_folds.train_4.predict)=90.84%\n",
      "[ 2019-04-23 23:20:43,123][kfold_wrapper.log_eval_metrics] Accuracy(layer_3 - estimator_0 - 5_folds.train_cv.predict)=90.36%\n",
      "[ 2019-04-23 23:20:43,146][kfold_wrapper.log_eval_metrics] Accuracy(layer_3 - estimator_1 - 5_folds.train_0.predict)=91.27%\n",
      "[ 2019-04-23 23:20:43,178][kfold_wrapper.log_eval_metrics] Accuracy(layer_3 - estimator_1 - 5_folds.train_1.predict)=86.13%\n",
      "[ 2019-04-23 23:20:43,209][kfold_wrapper.log_eval_metrics] Accuracy(layer_3 - estimator_1 - 5_folds.train_2.predict)=92.34%\n",
      "[ 2019-04-23 23:20:43,240][kfold_wrapper.log_eval_metrics] Accuracy(layer_3 - estimator_1 - 5_folds.train_3.predict)=91.21%\n",
      "[ 2019-04-23 23:20:43,271][kfold_wrapper.log_eval_metrics] Accuracy(layer_3 - estimator_1 - 5_folds.train_4.predict)=87.55%\n",
      "[ 2019-04-23 23:20:43,272][kfold_wrapper.log_eval_metrics] Accuracy(layer_3 - estimator_1 - 5_folds.train_cv.predict)=89.70%\n",
      "[ 2019-04-23 23:20:43,315][kfold_wrapper.log_eval_metrics] Accuracy(layer_3 - estimator_2 - 5_folds.train_0.predict)=92.73%\n",
      "[ 2019-04-23 23:20:43,346][kfold_wrapper.log_eval_metrics] Accuracy(layer_3 - estimator_2 - 5_folds.train_1.predict)=90.88%\n",
      "[ 2019-04-23 23:20:43,376][kfold_wrapper.log_eval_metrics] Accuracy(layer_3 - estimator_2 - 5_folds.train_2.predict)=89.05%\n",
      "[ 2019-04-23 23:20:43,408][kfold_wrapper.log_eval_metrics] Accuracy(layer_3 - estimator_2 - 5_folds.train_3.predict)=89.01%\n",
      "[ 2019-04-23 23:20:43,441][kfold_wrapper.log_eval_metrics] Accuracy(layer_3 - estimator_2 - 5_folds.train_4.predict)=90.48%\n",
      "[ 2019-04-23 23:20:43,442][kfold_wrapper.log_eval_metrics] Accuracy(layer_3 - estimator_2 - 5_folds.train_cv.predict)=90.43%\n",
      "[ 2019-04-23 23:20:43,444][cascade_classifier.calc_accuracy] Accuracy(layer_3 - train.classifier_average)=91.02%\n",
      "[ 2019-04-23 23:20:43,464][cascade_classifier.fit_transform] [layer=4] look_indexs=[0], X_cur_train.shape=(1369, 4191), X_cur_test.shape=(0, 4191)\n",
      "[ 2019-04-23 23:20:43,646][kfold_wrapper.log_eval_metrics] Accuracy(layer_4 - estimator_0 - 5_folds.train_0.predict)=87.27%\n",
      "[ 2019-04-23 23:20:43,804][kfold_wrapper.log_eval_metrics] Accuracy(layer_4 - estimator_0 - 5_folds.train_1.predict)=90.51%\n",
      "[ 2019-04-23 23:20:43,955][kfold_wrapper.log_eval_metrics] Accuracy(layer_4 - estimator_0 - 5_folds.train_2.predict)=92.70%\n",
      "[ 2019-04-23 23:20:44,113][kfold_wrapper.log_eval_metrics] Accuracy(layer_4 - estimator_0 - 5_folds.train_3.predict)=90.48%\n",
      "[ 2019-04-23 23:20:44,272][kfold_wrapper.log_eval_metrics] Accuracy(layer_4 - estimator_0 - 5_folds.train_4.predict)=89.74%\n",
      "[ 2019-04-23 23:20:44,273][kfold_wrapper.log_eval_metrics] Accuracy(layer_4 - estimator_0 - 5_folds.train_cv.predict)=90.14%\n",
      "[ 2019-04-23 23:20:44,295][kfold_wrapper.log_eval_metrics] Accuracy(layer_4 - estimator_1 - 5_folds.train_0.predict)=89.82%\n",
      "[ 2019-04-23 23:20:44,322][kfold_wrapper.log_eval_metrics] Accuracy(layer_4 - estimator_1 - 5_folds.train_1.predict)=90.88%\n",
      "[ 2019-04-23 23:20:44,359][kfold_wrapper.log_eval_metrics] Accuracy(layer_4 - estimator_1 - 5_folds.train_2.predict)=91.61%\n",
      "[ 2019-04-23 23:20:44,390][kfold_wrapper.log_eval_metrics] Accuracy(layer_4 - estimator_1 - 5_folds.train_3.predict)=90.48%\n",
      "[ 2019-04-23 23:20:44,430][kfold_wrapper.log_eval_metrics] Accuracy(layer_4 - estimator_1 - 5_folds.train_4.predict)=91.21%\n",
      "[ 2019-04-23 23:20:44,431][kfold_wrapper.log_eval_metrics] Accuracy(layer_4 - estimator_1 - 5_folds.train_cv.predict)=90.80%\n",
      "[ 2019-04-23 23:20:44,459][kfold_wrapper.log_eval_metrics] Accuracy(layer_4 - estimator_2 - 5_folds.train_0.predict)=89.82%\n",
      "[ 2019-04-23 23:20:44,492][kfold_wrapper.log_eval_metrics] Accuracy(layer_4 - estimator_2 - 5_folds.train_1.predict)=92.34%\n",
      "[ 2019-04-23 23:20:44,527][kfold_wrapper.log_eval_metrics] Accuracy(layer_4 - estimator_2 - 5_folds.train_2.predict)=90.88%\n",
      "[ 2019-04-23 23:20:44,558][kfold_wrapper.log_eval_metrics] Accuracy(layer_4 - estimator_2 - 5_folds.train_3.predict)=88.64%\n",
      "[ 2019-04-23 23:20:44,592][kfold_wrapper.log_eval_metrics] Accuracy(layer_4 - estimator_2 - 5_folds.train_4.predict)=91.94%\n",
      "[ 2019-04-23 23:20:44,593][kfold_wrapper.log_eval_metrics] Accuracy(layer_4 - estimator_2 - 5_folds.train_cv.predict)=90.72%\n",
      "[ 2019-04-23 23:20:44,595][cascade_classifier.calc_accuracy] Accuracy(layer_4 - train.classifier_average)=91.31%\n",
      "[ 2019-04-23 23:20:44,615][cascade_classifier.fit_transform] [layer=5] look_indexs=[0], X_cur_train.shape=(1369, 4191), X_cur_test.shape=(0, 4191)\n",
      "[ 2019-04-23 23:20:44,744][kfold_wrapper.log_eval_metrics] Accuracy(layer_5 - estimator_0 - 5_folds.train_0.predict)=85.45%\n",
      "[ 2019-04-23 23:20:44,870][kfold_wrapper.log_eval_metrics] Accuracy(layer_5 - estimator_0 - 5_folds.train_1.predict)=91.24%\n",
      "[ 2019-04-23 23:20:45,017][kfold_wrapper.log_eval_metrics] Accuracy(layer_5 - estimator_0 - 5_folds.train_2.predict)=90.88%\n",
      "[ 2019-04-23 23:20:45,142][kfold_wrapper.log_eval_metrics] Accuracy(layer_5 - estimator_0 - 5_folds.train_3.predict)=88.64%\n",
      "[ 2019-04-23 23:20:45,267][kfold_wrapper.log_eval_metrics] Accuracy(layer_5 - estimator_0 - 5_folds.train_4.predict)=88.28%\n",
      "[ 2019-04-23 23:20:45,268][kfold_wrapper.log_eval_metrics] Accuracy(layer_5 - estimator_0 - 5_folds.train_cv.predict)=88.90%\n",
      "[ 2019-04-23 23:20:45,291][kfold_wrapper.log_eval_metrics] Accuracy(layer_5 - estimator_1 - 5_folds.train_0.predict)=90.55%\n",
      "[ 2019-04-23 23:20:45,323][kfold_wrapper.log_eval_metrics] Accuracy(layer_5 - estimator_1 - 5_folds.train_1.predict)=90.15%\n",
      "[ 2019-04-23 23:20:45,364][kfold_wrapper.log_eval_metrics] Accuracy(layer_5 - estimator_1 - 5_folds.train_2.predict)=91.97%\n",
      "[ 2019-04-23 23:20:45,387][kfold_wrapper.log_eval_metrics] Accuracy(layer_5 - estimator_1 - 5_folds.train_3.predict)=87.55%\n",
      "[ 2019-04-23 23:20:45,425][kfold_wrapper.log_eval_metrics] Accuracy(layer_5 - estimator_1 - 5_folds.train_4.predict)=93.04%\n",
      "[ 2019-04-23 23:20:45,427][kfold_wrapper.log_eval_metrics] Accuracy(layer_5 - estimator_1 - 5_folds.train_cv.predict)=90.65%\n",
      "[ 2019-04-23 23:20:45,451][kfold_wrapper.log_eval_metrics] Accuracy(layer_5 - estimator_2 - 5_folds.train_0.predict)=93.09%\n",
      "[ 2019-04-23 23:20:45,482][kfold_wrapper.log_eval_metrics] Accuracy(layer_5 - estimator_2 - 5_folds.train_1.predict)=90.15%\n",
      "[ 2019-04-23 23:20:45,514][kfold_wrapper.log_eval_metrics] Accuracy(layer_5 - estimator_2 - 5_folds.train_2.predict)=89.42%\n",
      "[ 2019-04-23 23:20:45,543][kfold_wrapper.log_eval_metrics] Accuracy(layer_5 - estimator_2 - 5_folds.train_3.predict)=90.11%\n",
      "[ 2019-04-23 23:20:45,573][kfold_wrapper.log_eval_metrics] Accuracy(layer_5 - estimator_2 - 5_folds.train_4.predict)=91.21%\n",
      "[ 2019-04-23 23:20:45,574][kfold_wrapper.log_eval_metrics] Accuracy(layer_5 - estimator_2 - 5_folds.train_cv.predict)=90.80%\n",
      "[ 2019-04-23 23:20:45,575][cascade_classifier.calc_accuracy] Accuracy(layer_5 - train.classifier_average)=90.94%\n",
      "[ 2019-04-23 23:20:45,596][cascade_classifier.fit_transform] [layer=6] look_indexs=[0], X_cur_train.shape=(1369, 4191), X_cur_test.shape=(0, 4191)\n",
      "[ 2019-04-23 23:20:45,777][kfold_wrapper.log_eval_metrics] Accuracy(layer_6 - estimator_0 - 5_folds.train_0.predict)=90.55%\n",
      "[ 2019-04-23 23:20:45,943][kfold_wrapper.log_eval_metrics] Accuracy(layer_6 - estimator_0 - 5_folds.train_1.predict)=89.05%\n",
      "[ 2019-04-23 23:20:46,128][kfold_wrapper.log_eval_metrics] Accuracy(layer_6 - estimator_0 - 5_folds.train_2.predict)=89.05%\n",
      "[ 2019-04-23 23:20:46,279][kfold_wrapper.log_eval_metrics] Accuracy(layer_6 - estimator_0 - 5_folds.train_3.predict)=89.38%\n",
      "[ 2019-04-23 23:20:46,422][kfold_wrapper.log_eval_metrics] Accuracy(layer_6 - estimator_0 - 5_folds.train_4.predict)=90.48%\n",
      "[ 2019-04-23 23:20:46,423][kfold_wrapper.log_eval_metrics] Accuracy(layer_6 - estimator_0 - 5_folds.train_cv.predict)=89.70%\n",
      "[ 2019-04-23 23:20:46,447][kfold_wrapper.log_eval_metrics] Accuracy(layer_6 - estimator_1 - 5_folds.train_0.predict)=91.27%\n"
     ]
    },
    {
     "name": "stderr",
     "output_type": "stream",
     "text": [
      "[ 2019-04-23 23:20:46,495][kfold_wrapper.log_eval_metrics] Accuracy(layer_6 - estimator_1 - 5_folds.train_1.predict)=89.42%\n",
      "[ 2019-04-23 23:20:46,518][kfold_wrapper.log_eval_metrics] Accuracy(layer_6 - estimator_1 - 5_folds.train_2.predict)=91.24%\n",
      "[ 2019-04-23 23:20:46,554][kfold_wrapper.log_eval_metrics] Accuracy(layer_6 - estimator_1 - 5_folds.train_3.predict)=91.21%\n",
      "[ 2019-04-23 23:20:46,582][kfold_wrapper.log_eval_metrics] Accuracy(layer_6 - estimator_1 - 5_folds.train_4.predict)=90.48%\n",
      "[ 2019-04-23 23:20:46,584][kfold_wrapper.log_eval_metrics] Accuracy(layer_6 - estimator_1 - 5_folds.train_cv.predict)=90.72%\n",
      "[ 2019-04-23 23:20:46,614][kfold_wrapper.log_eval_metrics] Accuracy(layer_6 - estimator_2 - 5_folds.train_0.predict)=88.36%\n",
      "[ 2019-04-23 23:20:46,643][kfold_wrapper.log_eval_metrics] Accuracy(layer_6 - estimator_2 - 5_folds.train_1.predict)=91.97%\n",
      "[ 2019-04-23 23:20:46,675][kfold_wrapper.log_eval_metrics] Accuracy(layer_6 - estimator_2 - 5_folds.train_2.predict)=87.96%\n",
      "[ 2019-04-23 23:20:46,706][kfold_wrapper.log_eval_metrics] Accuracy(layer_6 - estimator_2 - 5_folds.train_3.predict)=94.14%\n",
      "[ 2019-04-23 23:20:46,743][kfold_wrapper.log_eval_metrics] Accuracy(layer_6 - estimator_2 - 5_folds.train_4.predict)=91.58%\n",
      "[ 2019-04-23 23:20:46,744][kfold_wrapper.log_eval_metrics] Accuracy(layer_6 - estimator_2 - 5_folds.train_cv.predict)=90.80%\n",
      "[ 2019-04-23 23:20:46,745][cascade_classifier.calc_accuracy] Accuracy(layer_6 - train.classifier_average)=90.58%\n",
      "[ 2019-04-23 23:20:46,759][cascade_classifier.fit_transform] [layer=7] look_indexs=[0], X_cur_train.shape=(1369, 4191), X_cur_test.shape=(0, 4191)\n",
      "[ 2019-04-23 23:20:46,955][kfold_wrapper.log_eval_metrics] Accuracy(layer_7 - estimator_0 - 5_folds.train_0.predict)=87.64%\n",
      "[ 2019-04-23 23:20:47,145][kfold_wrapper.log_eval_metrics] Accuracy(layer_7 - estimator_0 - 5_folds.train_1.predict)=91.24%\n",
      "[ 2019-04-23 23:20:47,327][kfold_wrapper.log_eval_metrics] Accuracy(layer_7 - estimator_0 - 5_folds.train_2.predict)=90.88%\n",
      "[ 2019-04-23 23:20:47,474][kfold_wrapper.log_eval_metrics] Accuracy(layer_7 - estimator_0 - 5_folds.train_3.predict)=87.18%\n",
      "[ 2019-04-23 23:20:47,646][kfold_wrapper.log_eval_metrics] Accuracy(layer_7 - estimator_0 - 5_folds.train_4.predict)=86.81%\n",
      "[ 2019-04-23 23:20:47,648][kfold_wrapper.log_eval_metrics] Accuracy(layer_7 - estimator_0 - 5_folds.train_cv.predict)=88.75%\n",
      "[ 2019-04-23 23:20:47,671][kfold_wrapper.log_eval_metrics] Accuracy(layer_7 - estimator_1 - 5_folds.train_0.predict)=93.45%\n",
      "[ 2019-04-23 23:20:47,708][kfold_wrapper.log_eval_metrics] Accuracy(layer_7 - estimator_1 - 5_folds.train_1.predict)=89.78%\n",
      "[ 2019-04-23 23:20:47,734][kfold_wrapper.log_eval_metrics] Accuracy(layer_7 - estimator_1 - 5_folds.train_2.predict)=88.69%\n",
      "[ 2019-04-23 23:20:47,768][kfold_wrapper.log_eval_metrics] Accuracy(layer_7 - estimator_1 - 5_folds.train_3.predict)=91.58%\n",
      "[ 2019-04-23 23:20:47,796][kfold_wrapper.log_eval_metrics] Accuracy(layer_7 - estimator_1 - 5_folds.train_4.predict)=90.84%\n",
      "[ 2019-04-23 23:20:47,797][kfold_wrapper.log_eval_metrics] Accuracy(layer_7 - estimator_1 - 5_folds.train_cv.predict)=90.87%\n",
      "[ 2019-04-23 23:20:47,830][kfold_wrapper.log_eval_metrics] Accuracy(layer_7 - estimator_2 - 5_folds.train_0.predict)=89.09%\n",
      "[ 2019-04-23 23:20:47,861][kfold_wrapper.log_eval_metrics] Accuracy(layer_7 - estimator_2 - 5_folds.train_1.predict)=89.78%\n",
      "[ 2019-04-23 23:20:47,893][kfold_wrapper.log_eval_metrics] Accuracy(layer_7 - estimator_2 - 5_folds.train_2.predict)=89.42%\n",
      "[ 2019-04-23 23:20:47,925][kfold_wrapper.log_eval_metrics] Accuracy(layer_7 - estimator_2 - 5_folds.train_3.predict)=91.94%\n",
      "[ 2019-04-23 23:20:47,958][kfold_wrapper.log_eval_metrics] Accuracy(layer_7 - estimator_2 - 5_folds.train_4.predict)=91.58%\n",
      "[ 2019-04-23 23:20:47,959][kfold_wrapper.log_eval_metrics] Accuracy(layer_7 - estimator_2 - 5_folds.train_cv.predict)=90.36%\n",
      "[ 2019-04-23 23:20:47,960][cascade_classifier.calc_accuracy] Accuracy(layer_7 - train.classifier_average)=90.50%\n",
      "[ 2019-04-23 23:20:47,962][cascade_classifier.fit_transform] [Result][Optimal Level Detected] opt_layer_num=5, accuracy_train=91.31%, accuracy_test=0.00%\n"
     ]
    }
   ],
   "source": [
    "config = get_toy_config()\n",
    "gc = GCForest(config)\n",
    "\n",
    "# features_train 为 ndarray，labels_train 维度为 (n_samples, )，而不是(n_samples, 1)\n",
    "features_gc_train = features_train.toarray()\n",
    "labels_gc_train = labels_train.reshape(-1)\n",
    "\n",
    "since = time.time()\n",
    "gc.fit_transform(features_gc_train, labels_gc_train)\n",
    "\n",
    "time_elapsed = time.time() - since\n",
    "\n",
    "# gc.fit_transform(features_train, labels_train, features_test, labels_test)"
   ]
  },
  {
   "cell_type": "code",
   "execution_count": 53,
   "metadata": {},
   "outputs": [
    {
     "name": "stdout",
     "output_type": "stream",
     "text": [
      "Training complete in 0m 11.8891s\n"
     ]
    }
   ],
   "source": [
    "print('Training complete in {:.0f}m {:.4f}s'.format(\n",
    "        time_elapsed // 60, time_elapsed % 60)) "
   ]
  },
  {
   "cell_type": "code",
   "execution_count": 54,
   "metadata": {},
   "outputs": [
    {
     "name": "stderr",
     "output_type": "stream",
     "text": [
      "[ 2019-04-23 23:20:48,010][cascade_classifier.transform] X_groups_test.shape=[(587, 4185)]\n",
      "[ 2019-04-23 23:20:48,040][cascade_classifier.transform] group_dims=[4185]\n",
      "[ 2019-04-23 23:20:48,041][cascade_classifier.transform] X_test.shape=(587, 4185)\n",
      "[ 2019-04-23 23:20:48,060][cascade_classifier.transform] [layer=0] look_indexs=[0], X_cur_test.shape=(587, 4185)\n",
      "[ 2019-04-23 23:20:48,150][cascade_classifier.transform] [layer=1] look_indexs=[0], X_cur_test.shape=(587, 4191)\n",
      "[ 2019-04-23 23:20:48,223][cascade_classifier.transform] [layer=2] look_indexs=[0], X_cur_test.shape=(587, 4191)\n",
      "[ 2019-04-23 23:20:48,283][cascade_classifier.transform] [layer=3] look_indexs=[0], X_cur_test.shape=(587, 4191)\n",
      "[ 2019-04-23 23:20:48,343][cascade_classifier.transform] [layer=4] look_indexs=[0], X_cur_test.shape=(587, 4191)\n"
     ]
    }
   ],
   "source": [
    "pred = predict_labels(gc,features_test.toarray())\n",
    "pred_scores.append((\"DCF\", [precision_score(labels_test,pred), recall_score(labels_test,pred), accuracy_score(labels_test,pred), f1_score(labels_test,pred), '{:.0f}m {:.4f}s'.format(time_elapsed // 60, time_elapsed % 60)]))"
   ]
  },
  {
   "cell_type": "code",
   "execution_count": 55,
   "metadata": {},
   "outputs": [
    {
     "data": {
      "text/html": [
       "<div>\n",
       "<style scoped>\n",
       "    .dataframe tbody tr th:only-of-type {\n",
       "        vertical-align: middle;\n",
       "    }\n",
       "\n",
       "    .dataframe tbody tr th {\n",
       "        vertical-align: top;\n",
       "    }\n",
       "\n",
       "    .dataframe thead th {\n",
       "        text-align: right;\n",
       "    }\n",
       "</style>\n",
       "<table border=\"1\" class=\"dataframe\">\n",
       "  <thead>\n",
       "    <tr style=\"text-align: right;\">\n",
       "      <th></th>\n",
       "      <th>Precision</th>\n",
       "      <th>Recall</th>\n",
       "      <th>Accuracy</th>\n",
       "      <th>F1</th>\n",
       "      <th>Training Time (s)</th>\n",
       "    </tr>\n",
       "  </thead>\n",
       "  <tbody>\n",
       "    <tr>\n",
       "      <th>SVC</th>\n",
       "      <td>0.776699</td>\n",
       "      <td>0.794702</td>\n",
       "      <td>0.776831</td>\n",
       "      <td>0.785597</td>\n",
       "      <td>0m 0.0521s</td>\n",
       "    </tr>\n",
       "    <tr>\n",
       "      <th>KN</th>\n",
       "      <td>0.983425</td>\n",
       "      <td>0.589404</td>\n",
       "      <td>0.783646</td>\n",
       "      <td>0.737060</td>\n",
       "      <td>0m 0.0007s</td>\n",
       "    </tr>\n",
       "    <tr>\n",
       "      <th>NB</th>\n",
       "      <td>0.886926</td>\n",
       "      <td>0.831126</td>\n",
       "      <td>0.858603</td>\n",
       "      <td>0.858120</td>\n",
       "      <td>0m 0.0011s</td>\n",
       "    </tr>\n",
       "    <tr>\n",
       "      <th>DT</th>\n",
       "      <td>0.936330</td>\n",
       "      <td>0.827815</td>\n",
       "      <td>0.882453</td>\n",
       "      <td>0.878735</td>\n",
       "      <td>0m 0.0348s</td>\n",
       "    </tr>\n",
       "    <tr>\n",
       "      <th>LR</th>\n",
       "      <td>0.956522</td>\n",
       "      <td>0.801325</td>\n",
       "      <td>0.879046</td>\n",
       "      <td>0.872072</td>\n",
       "      <td>0m 0.0034s</td>\n",
       "    </tr>\n",
       "    <tr>\n",
       "      <th>RF</th>\n",
       "      <td>0.972656</td>\n",
       "      <td>0.824503</td>\n",
       "      <td>0.897785</td>\n",
       "      <td>0.892473</td>\n",
       "      <td>0m 4.5593s</td>\n",
       "    </tr>\n",
       "    <tr>\n",
       "      <th>AdaBoost</th>\n",
       "      <td>0.952941</td>\n",
       "      <td>0.804636</td>\n",
       "      <td>0.879046</td>\n",
       "      <td>0.872531</td>\n",
       "      <td>0m 0.4357s</td>\n",
       "    </tr>\n",
       "    <tr>\n",
       "      <th>BgC</th>\n",
       "      <td>0.961390</td>\n",
       "      <td>0.824503</td>\n",
       "      <td>0.892675</td>\n",
       "      <td>0.887701</td>\n",
       "      <td>0m 0.2522s</td>\n",
       "    </tr>\n",
       "    <tr>\n",
       "      <th>ETC</th>\n",
       "      <td>0.951417</td>\n",
       "      <td>0.778146</td>\n",
       "      <td>0.865417</td>\n",
       "      <td>0.856102</td>\n",
       "      <td>0m 0.1473s</td>\n",
       "    </tr>\n",
       "    <tr>\n",
       "      <th>LSTM</th>\n",
       "      <td>0.925651</td>\n",
       "      <td>0.824503</td>\n",
       "      <td>0.875639</td>\n",
       "      <td>0.872154</td>\n",
       "      <td>1m 4.8802s</td>\n",
       "    </tr>\n",
       "    <tr>\n",
       "      <th>DCF</th>\n",
       "      <td>0.925424</td>\n",
       "      <td>0.903974</td>\n",
       "      <td>0.913118</td>\n",
       "      <td>0.914573</td>\n",
       "      <td>0m 11.8891s</td>\n",
       "    </tr>\n",
       "  </tbody>\n",
       "</table>\n",
       "</div>"
      ],
      "text/plain": [
       "          Precision    Recall  Accuracy        F1 Training Time (s)\n",
       "SVC        0.776699  0.794702  0.776831  0.785597        0m 0.0521s\n",
       "KN         0.983425  0.589404  0.783646  0.737060        0m 0.0007s\n",
       "NB         0.886926  0.831126  0.858603  0.858120        0m 0.0011s\n",
       "DT         0.936330  0.827815  0.882453  0.878735        0m 0.0348s\n",
       "LR         0.956522  0.801325  0.879046  0.872072        0m 0.0034s\n",
       "RF         0.972656  0.824503  0.897785  0.892473        0m 4.5593s\n",
       "AdaBoost   0.952941  0.804636  0.879046  0.872531        0m 0.4357s\n",
       "BgC        0.961390  0.824503  0.892675  0.887701        0m 0.2522s\n",
       "ETC        0.951417  0.778146  0.865417  0.856102        0m 0.1473s\n",
       "LSTM       0.925651  0.824503  0.875639  0.872154        1m 4.8802s\n",
       "DCF        0.925424  0.903974  0.913118  0.914573       0m 11.8891s"
      ]
     },
     "execution_count": 55,
     "metadata": {},
     "output_type": "execute_result"
    }
   ],
   "source": [
    "df = pd.DataFrame.from_items(pred_scores,orient='index', columns=['Precision', 'Recall', 'Accuracy', 'F1', 'Training Time (s)'])\n",
    "df"
   ]
  },
  {
   "cell_type": "code",
   "execution_count": 56,
   "metadata": {},
   "outputs": [
    {
     "data": {
      "image/png": "[encoded data removed]",
      "text/plain": [
       "<Figure size 792x432 with 1 Axes>"
      ]
     },
     "metadata": {},
     "output_type": "display_data"
    }
   ],
   "source": [
    "df.plot(kind='bar', y=\"Accuracy\", ylim=(0.7,1.0), figsize=(11,6), align='center', colormap=\"Accent\")\n",
    "plt.xticks(np.arange(11), df.index)\n",
    "plt.ylabel('Accuracy Score')\n",
    "plt.title('Distribution by Classifier')\n",
    "plt.legend(bbox_to_anchor=(1.05, 1), loc=2, borderaxespad=0.)\n",
    "plt.savefig(\"../img/ytb-acc-v4-stop.eps\")\n",
    "plt.show()"
   ]
  },
  {
   "cell_type": "code",
   "execution_count": 57,
   "metadata": {
    "collapsed": true
   },
   "outputs": [],
   "source": [
    "import pickle\n",
    "# dump\n",
    "with open(\"../pkl/ytb-gc-v4-stop.pkl\", \"wb\") as f:\n",
    "    pickle.dump(gc, f, pickle.HIGHEST_PROTOCOL)\n",
    "    \n",
    "# # load\n",
    "# with open(\"../pkl/2018_gc.pkl\", \"rb\") as f:\n",
    "#     gc = pickle.load(f)"
   ]
  },
  {
   "cell_type": "code",
   "execution_count": null,
   "metadata": {
    "collapsed": true
   },
   "outputs": [],
   "source": []
  }
 ],
 "metadata": {
  "kernelspec": {
   "display_name": "Python [default]",
   "language": "python",
   "name": "python3"
  },
  "language_info": {
   "codemirror_mode": {
    "name": "ipython",
    "version": 3
   },
   "file_extension": ".py",
   "mimetype": "text/x-python",
   "name": "python",
   "nbconvert_exporter": "python",
   "pygments_lexer": "ipython3",
   "version": "3.6.2"
  }
 },
 "nbformat": 4,
 "nbformat_minor": 2
}
